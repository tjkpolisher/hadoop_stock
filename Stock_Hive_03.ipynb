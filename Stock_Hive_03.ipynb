{
 "cells": [
  {
   "cell_type": "code",
   "execution_count": 1,
   "metadata": {},
   "outputs": [],
   "source": [
    "import pandas as pd\n",
    "import numpy as np\n",
    "import matplotlib.pyplot as plt\n",
    "import re\n",
    "import plotly.express as px\n",
    "import plotly.graph_objects as go"
   ]
  },
  {
   "cell_type": "code",
   "execution_count": 2,
   "metadata": {},
   "outputs": [],
   "source": [
    "plt.style.use(\"ggplot\")"
   ]
  },
  {
   "cell_type": "code",
   "execution_count": 3,
   "metadata": {},
   "outputs": [],
   "source": [
    "path_dir = \"./csv/\"\n",
    "stock_column = [\"STK_CD\", \"STK_NM\", \"EX_CD\", \"NAT_CD\", \"SEC_NM\", \"STK_TP_NM\"]\n",
    "history_column = [\"STK_CD\", \"DT\", \"O_PRC\", \"H_PRC\", \"L_PRC\", \"C_PRC\", \"VOL\", \"CHG_RT\", \"M3_PRC\", \"M5_PRC\", \"M10_PRC\", \"M20_PRC\", \"M60_PRC\", \"M3_VOL\", \"M5_VOL\", \"M10_VOL\", \"M20_VOL\", \"M60_VOL\", \"STK_DT_NO\"]\n",
    "finance_column = [\"YY\", \"STK_CD\", \"FIN_ITM_NM\", \"FIN_ITM_VAL\", \"DAT_SOU\"]\n",
    "history = pd.read_csv(path_dir + \"history_dt.csv\", names=history_column, encoding=\"cp949\", low_memory=False)\n",
    "finance = pd.read_csv(path_dir + \"finance_y.csv\", names=finance_column, encoding=\"utf-8-sig\")\n",
    "stock   = pd.read_csv(path_dir + \"stock.csv\", names=stock_column, encoding=\"utf-8-sig\")"
   ]
  },
  {
   "cell_type": "code",
   "execution_count": 4,
   "metadata": {},
   "outputs": [],
   "source": [
    "# csv 필터 및 데이터 타입변경 함수 모음\n",
    "\n",
    "def history_filter_csv(csv, stk_code, start_day, end_day, filter_column=None):\n",
    "    filter = csv.copy();\n",
    "    filter = filter[filter[\"STK_CD\"] == stk_code]\n",
    "    filter = filter[(filter[\"DT\"] >= start_day) & (filter[\"DT\"] <= end_day)]\n",
    "    if filter_column is not None:\n",
    "        filter = filter[filter_column]\n",
    "    return filter\n",
    "\n",
    "def history_init_csv(csv):\n",
    "    csv[\"DT\"] = pd.to_datetime(csv[\"DT\"])\n",
    "    csv[\"C_PRC\"] = csv[\"C_PRC\"].astype(\"int64\") \n",
    "    return csv"
   ]
  },
  {
   "cell_type": "code",
   "execution_count": 5,
   "metadata": {},
   "outputs": [],
   "source": [
    "# 볼랜저밴드 구하는 함수 모음\n",
    "\n",
    "def Moving_average(csv, Days):\n",
    "    # 라벨 명칭\n",
    "    MA_csv = csv.copy()\n",
    "    MA_label = f\"MA{Days}\"\n",
    "    STD_label = f\"STDDEV{Days}\"\n",
    "    UP_label = f\"Upper{Days}B\"\n",
    "    LOW_label = f\"Lower{Days}B\"\n",
    "    label_name_list = [MA_label, STD_label, UP_label, LOW_label]\n",
    "\n",
    "    # N일간 종가의 이동평균\n",
    "    MA_csv[MA_label] = MA_csv[\"C_PRC\"].rolling(Days).mean()\n",
    "    \n",
    "    # N일간 주가의 표준편차\n",
    "    MA_csv[STD_label] = MA_csv[\"C_PRC\"].rolling(Days).std()\n",
    "    \n",
    "    # 상위 밴드\n",
    "    # UpperB = 종가의 이동평균 + (표준편차 * 2)\n",
    "    MA_csv[UP_label] = MA_csv[MA_label] + (MA_csv[STD_label] * 2)\n",
    "\n",
    "    # 하위밴드\n",
    "    # LowerB = 종가의 이동평균 - (표준편차 * 2)\n",
    "    MA_csv[LOW_label] = MA_csv[MA_label] - (MA_csv[STD_label] * 2)\n",
    "\n",
    "    return MA_csv, label_name_list\n",
    "\n",
    "def Bollinger_Bands(csv, label_list, title=\"None\"):\n",
    "    MA_label, STD_label, UP_label, LOW_label = tuple([label for label in label_list])\n",
    "    \n",
    "    # 그래프의 크기 가로 30 세로 10\n",
    "    plt.figure(figsize=(15, 5))\n",
    "    \n",
    "    # 상위 밴드 : 주식의 가격이 움직이는 밴드의 상위값 (빨강색으로 표시)\n",
    "    plt.plot(csv[\"DT\"], csv[UP_label], \"r--\")\n",
    "    # 실제 주식의 가격 (종가) : 검정색\n",
    "    plt.plot(csv[\"DT\"], csv[\"C_PRC\"], \"k\")\n",
    "    # 하위밴드 : 주식이 움직이는 가격이 움직이는 밴드의 하위값 (하위값)\n",
    "    plt.plot(csv[\"DT\"], csv[LOW_label], \"b--\")\n",
    "\n",
    "    # 각 날짜의 df.LowerB(하위밴드) ~ df.UpperB (상위밴드) 사이를 색을 칠함\n",
    "    plt.fill_between(csv[\"DT\"], csv[LOW_label], csv[UP_label], alpha=0.2)\n",
    "\n",
    "    plt.title(title, fontsize=25) # 제목\n",
    "\n",
    "    return plt;\n",
    "\n",
    "def Percent_Bands(csv, label_list, Days, title = None):\n",
    "    np.set_printoptions(suppress=True, precision=4)\n",
    "    bands_csv = csv.copy()\n",
    "    MA_label, STD_label, UP_label, LOW_label = tuple([label for label in label_list])\n",
    "\n",
    "    # PercentB = (종가 - 하위밴드) / (상위밴드 - 하위밴드)\n",
    "    percent_label = f\"Percent{Days}B\"\n",
    "    bands_csv[percent_label] = (bands_csv[\"C_PRC\"] - bands_csv[LOW_label]) / (bands_csv[UP_label] - bands_csv[LOW_label])\n",
    "    # 밴드 내에서 주가의 상대적인 위치를 시각화 합니다.\n",
    "    # 1보다 크면 밴드폭 상단을 돌파한 것이고\n",
    "    # 0보다 작으면 밴드폭 하단을 뚫고 내려간 것입니다.\n",
    "\n",
    "    # 그래프의 크기 가로 15 세로 5\n",
    "    plt.figure(figsize=(15, 5))\n",
    "    # 밴드내에서 주가의 상대 위치를 막대 그래프로 출력\n",
    "    plt.bar(bands_csv[\"DT\"], bands_csv[percent_label])\n",
    "\n",
    "    # 1 지점에 선그림 (빨강색) -> 1보다 크면 밴드폭 상단을 돌파한 것이고\n",
    "    plt.axhline(1, c=\"r\", lw=1)\n",
    "    # 0.5 지점에 선그림 (파랑색)\n",
    "    plt.axhline(0.5, c=\"b\", lw=1)\n",
    "    # 0 지점에 선그림 (검정색) -> 0보다 작으면 밴드폭 하단을 뚫고 내려간 것입니다.\n",
    "    plt.axhline(0, c=\"k\", lw=1)\n",
    "\n",
    "    plt.title(title, fontsize=25) # 제목\n",
    "\n",
    "    return bands_csv, plt"
   ]
  },
  {
   "cell_type": "code",
   "execution_count": 6,
   "metadata": {},
   "outputs": [],
   "source": [
    "# 모뎀텀 지표 구하는 함수 모음\n",
    "\n",
    "def RSI_UD(diff):\n",
    "    \"\"\"\n",
    "    diff 값을 입력받아 0이면 ups, downs을 0으로 \n",
    "    0보다 크면 ups 에 diff값을 작으면 downs 에 abs(diff) 값을 반환합니다.\n",
    "    ups = 전날 주가보다 오늘 주가가 상승할 때의 주가 상승폭(up)\n",
    "    downs = 전날 주가보다 오늘 주가가 하락할 때의 주가 하락폭(down)\n",
    "    \"\"\"\n",
    "    ups = 0\n",
    "    downs = 0\n",
    "    # 전날주가 - 오늘주가가 0 초과\n",
    "    if diff > 0:\n",
    "        # 상승치를 ups에 대입\n",
    "        ups = diff\n",
    "    elif diff < 0: # 전날주가 - 오늘주가가 0 미만\n",
    "        # 하락치의 절대값 (abs)를 downs 에 대입\n",
    "        downs = abs(diff)\n",
    "    # ups와 downs 를 Series(DataFrame 칸) 으로 만들어서 리턴    \n",
    "    return pd.Series([ups, downs])\n",
    "\n",
    "def RSI_Data_csv(csv, Days, RSIDays):\n",
    "    rsi_csv = csv.copy()\n",
    "    # diff() : 함수는 윗줄 (하루전) 데이터와 아래줄 데이터(현재)의 차를 계산\n",
    "    rsi_csv[\"diff\"] = rsi_csv[\"C_PRC\"].diff()\n",
    "\n",
    "    # df[\"diff\"] 컬럼 데이터에 UD 함수를 실행해서 상승분과 하락분을 계산하고\n",
    "    # 상승분은 U, 하락분은 D 컬럼에 저장\n",
    "    rsi_csv[[\"U\", \"D\"]] = rsi_csv[\"diff\"].apply(RSI_UD)\n",
    "\n",
    "    # AU = 일정기간(N일,보통14일) 동안의 U의 평균값(average ups)\n",
    "    rsi_csv[\"AU\"] = rsi_csv[\"U\"].rolling(Days).mean()\n",
    "\n",
    "    # AD = 일정기간(N일,보통14일) 동안의 D의 평균값(average downs)\n",
    "    rsi_csv[\"AD\"] = rsi_csv[\"D\"].rolling(Days).mean()\n",
    "\n",
    "    # RS = AU(일정기간(N일,보통14일) 동안의 U의 평균값(average ups) ) / AD (일정기간(N일,보통14일) 동안의 D의 평균값(average downs))\n",
    "    rsi_csv[\"RS\"] = rsi_csv[\"AU\"] / rsi_csv[\"AD\"]\n",
    "\n",
    "    #AU / (AU+AD) = RS / (1+RS)\n",
    "    rsi_csv[\"RSI\"] = rsi_csv[\"RS\"] / (1 + rsi_csv[\"RS\"])\n",
    "\n",
    "    # DT 컬럼 (날짜) 를 인덱스로 설정\n",
    "    rsi_csv = rsi_csv.set_index(\"DT\")\n",
    "\n",
    "    # RSI_signal 변수를 생성합니다.\n",
    "    rsi_csv['RSI_signal'] = rsi_csv[\"RSI\"].rolling(RSIDays).mean()\n",
    "\n",
    "    return rsi_csv\n",
    "\n",
    "def RSI_Graph(csv, code):\n",
    "    # 종가를 시각화 합니다.\n",
    "    c_prc_plt = csv[\"C_PRC\"].plot(figsize=(15, 5), title=f\"C_PRC_PLT_{code}\")\n",
    "\n",
    "    # 'RSI','RSI_signal' 을 시각화 합니다.\n",
    "    rsi_plt = csv[[\"RSI\", \"RSI_signal\"]].plot(figsize=(15, 5), title=f\"RSI_{code}\")\n",
    "    # RSI 가 70퍼센트 지점에 빨강색 선 ->  RSI가 70% 이상이면 매수세가 상당히 커서 초과매수 국면에 돌입했다고 판단합니다.\n",
    "    rsi_plt.axhline(0.7, c=\"r\", ls=\"--\")\n",
    "    # RSI 가 50 퍼센트 지점에 검정색 선 -> RSI는 50%를 기준으로, 50% 이상은 매수세 우세, 50% 이하는 매도세 우세를 나타냅니다.\n",
    "    rsi_plt.axhline(0.5, c=\"k\", ls=\"--\")\n",
    "    # RSI 가 30 퍼센트 지점에 파랑색 선 ->  RSI가 30% 이하이면 매도세가 상당히 커서 초과매도 국면에 돌입했다고 판단합니다.\n",
    "    rsi_plt.axhline(0.3, c=\"b\", ls=\"--\")\n",
    "\n",
    "    return c_prc_plt, rsi_plt"
   ]
  },
  {
   "cell_type": "code",
   "execution_count": 7,
   "metadata": {},
   "outputs": [],
   "source": [
    "# MACD 파일\n",
    "\n",
    "def MACD_Graph(csv, columns, MACD_Bool, code):\n",
    "    if MACD_Bool:\n",
    "        macd_plt = px.line(csv[columns], title=f\"MACD_{code}\", height=500)\n",
    "        macd_plt.add_hline(0)\n",
    "    else:\n",
    "        macd_plt = px.line(csv[columns], title=f\"EMA_{code}\", height=500)\n",
    "    return macd_plt;\n",
    "\n",
    "def MACD_oscillator_Graph(csv, code):\n",
    "    macd_osc_plt = px.bar(csv[\"macdhist\"], title=f\"MACD_oscillator_{code}\", height=300)\n",
    "    return macd_osc_plt\n",
    "\n",
    "def MACD_DATA_CSV(csv, shortDay = 12, longDay = 26, MoveDay = 9):\n",
    "    macd_csv = csv.copy()\n",
    "    # 12일 지수이동평균을 구합니다.\n",
    "    macd_csv[\"ema_short\"] = macd_csv[\"C_PRC\"].ewm(shortDay).mean()\n",
    "\n",
    "    # 26일 지수이동평균을 구합니다.\n",
    "    macd_csv[\"ema_long\"] = macd_csv[\"C_PRC\"].ewm(longDay).mean()\n",
    "\n",
    "    # 거래일 DT를 인덱스로 설정 합니다\n",
    "    macd_csv = macd_csv.set_index(\"DT\")\n",
    "\n",
    "    # MACD = 단기 지수이동평균(12일 지수 이동 평균) - 장기 지수이동평균 (26일 지수 이동 평균)\n",
    "    macd_csv[\"MACD\"] = macd_csv[\"ema_short\"] - macd_csv[\"ema_long\"]\n",
    "\n",
    "    # MACD의 9일 이동평균값을 구합니다.\n",
    "    macd_csv[\"signal\"] = macd_csv[\"MACD\"].ewm(MoveDay).mean()\n",
    "\n",
    "    # MACD oscillator 계산\n",
    "    macd_csv[\"macdhist\"] = macd_csv[\"MACD\"] - macd_csv[\"signal\"]\n",
    "\n",
    "    return macd_csv"
   ]
  },
  {
   "cell_type": "code",
   "execution_count": 8,
   "metadata": {},
   "outputs": [],
   "source": [
    "def Bollinger_Bands_Main(csv, stk_code, start_day, end_day, Days):\n",
    "    column = ['STK_CD', 'DT', 'C_PRC']\n",
    "    history_csv = history_filter_csv(csv, stk_code, start_day, end_day, column)\n",
    "    history_csv = history_init_csv(history_csv)\n",
    "    MA_Days, MA_Labels = Moving_average(history_csv, Days)\n",
    "    title = f\"Bollinger_Bands_{stk_code}_By_{Days}\"\n",
    "    MA_plt = Bollinger_Bands(MA_Days, MA_Labels, title)\n",
    "    title = f\"Percent_Bands_{stk_code}_By_{Days}\"\n",
    "    Per_csv, Per_plt = Percent_Bands(MA_Days, MA_Labels, Days, title)\n",
    "\n",
    "    return MA_Days, MA_plt, Per_csv, Per_plt;"
   ]
  },
  {
   "cell_type": "code",
   "execution_count": 9,
   "metadata": {},
   "outputs": [],
   "source": [
    "def RSI_Main(csv, stk_code, start_day, end_day, Days):\n",
    "    column = ['STK_CD', 'DT', 'C_PRC', 'O_PRC', 'H_PRC', 'L_PRC', 'VOL']\n",
    "\n",
    "    history_csv = history_filter_csv(csv, stk_code, start_day, end_day, column)\n",
    "    history_csv = history_init_csv(history_csv)\n",
    "    \n",
    "    RSIDays = 14\n",
    "    rsi_csv = RSI_Data_csv(history_csv, Days, RSIDays)\n",
    "\n",
    "    c_prc_plt, rsi_plt = RSI_Graph(rsi_csv, stk_code)\n",
    "\n",
    "    return rsi_csv, c_prc_plt, rsi_plt"
   ]
  },
  {
   "cell_type": "code",
   "execution_count": 10,
   "metadata": {},
   "outputs": [],
   "source": [
    "def MACD_MAIN(csv, stk_code, start_day, end_day, shortDay, longDay, MoveDay):\n",
    "    column = ['STK_CD', 'DT', 'C_PRC', 'O_PRC', 'H_PRC', 'L_PRC', 'VOL']\n",
    "\n",
    "    history_csv = history_filter_csv(csv, stk_code, start_day, end_day, column)\n",
    "    history_csv = history_init_csv(history_csv)\n",
    "\n",
    "    ema_columns = [\"C_PRC\", \"ema_short\", \"ema_long\"]\n",
    "    macd_columns = [\"MACD\", \"signal\"]\n",
    "\n",
    "    macd_csv = MACD_DATA_CSV(history_csv, shortDay, longDay, MoveDay)\n",
    "\n",
    "    ema_plt = MACD_Graph(macd_csv, ema_columns, False, stk_code)\n",
    "    macd_plt = MACD_Graph(macd_csv, macd_columns, True, stk_code)\n",
    "    MACD_oscillator_plt = MACD_oscillator_Graph(macd_csv, stk_code)\n",
    "\n",
    "    return macd_csv, ema_plt, macd_plt, MACD_oscillator_plt"
   ]
  },
  {
   "cell_type": "code",
   "execution_count": 20,
   "metadata": {},
   "outputs": [],
   "source": [
    "stk_code = '247540'\n",
    "start_day = '2019-01-02'\n",
    "end_day = '2020-03-19'"
   ]
  },
  {
   "cell_type": "code",
   "execution_count": 21,
   "metadata": {},
   "outputs": [
    {
     "data": {
      "image/png": "[encoded data removed]",
      "text/plain": [
       "<Figure size 1500x500 with 1 Axes>"
      ]
     },
     "metadata": {},
     "output_type": "display_data"
    },
    {
     "data": {
      "image/png": "[encoded data removed]",
      "text/plain": [
       "<Figure size 1500x500 with 1 Axes>"
      ]
     },
     "metadata": {},
     "output_type": "display_data"
    }
   ],
   "source": [
    "MA60_csv, MA60_plt, Per60_csv, Per60_plt = Bollinger_Bands_Main(history, stk_code, start_day, end_day, Days = 60)"
   ]
  },
  {
   "cell_type": "code",
   "execution_count": 22,
   "metadata": {},
   "outputs": [
    {
     "data": {
      "image/png": "[encoded data removed]",
      "text/plain": [
       "<Figure size 1500x500 with 1 Axes>"
      ]
     },
     "metadata": {},
     "output_type": "display_data"
    },
    {
     "data": {
      "image/png": "[encoded data removed]",
      "text/plain": [
       "<Figure size 1500x500 with 1 Axes>"
      ]
     },
     "metadata": {},
     "output_type": "display_data"
    }
   ],
   "source": [
    "MA20_csv, MA20_plt, Per20_csv, Per20_plt = Bollinger_Bands_Main(history, stk_code, start_day, end_day, Days = 20)"
   ]
  },
  {
   "cell_type": "code",
   "execution_count": 23,
   "metadata": {},
   "outputs": [
    {
     "data": {
      "image/png": "[encoded data removed]",
      "text/plain": [
       "<Figure size 1500x500 with 1 Axes>"
      ]
     },
     "metadata": {},
     "output_type": "display_data"
    },
    {
     "data": {
      "image/png": "[encoded data removed]",
      "text/plain": [
       "<Figure size 1500x500 with 1 Axes>"
      ]
     },
     "metadata": {},
     "output_type": "display_data"
    }
   ],
   "source": [
    "MA10_csv, MA10_plt, Per10_csv, Per10_plt = Bollinger_Bands_Main(history, stk_code, start_day, end_day, Days = 10)"
   ]
  },
  {
   "cell_type": "code",
   "execution_count": 24,
   "metadata": {},
   "outputs": [
    {
     "data": {
      "image/png": "[encoded data removed]",
      "text/plain": [
       "<Figure size 1500x500 with 1 Axes>"
      ]
     },
     "metadata": {},
     "output_type": "display_data"
    },
    {
     "data": {
      "image/png": "[encoded data removed]",
      "text/plain": [
       "<Figure size 1500x500 with 1 Axes>"
      ]
     },
     "metadata": {},
     "output_type": "display_data"
    }
   ],
   "source": [
    "rsi_csv, c_prc_plt, rsi_plt = RSI_Main(history, stk_code, start_day, end_day, Days=14)"
   ]
  },
  {
   "cell_type": "code",
   "execution_count": 25,
   "metadata": {},
   "outputs": [],
   "source": [
    "macd_csv, ema_plt, macd_plt, MACD_oscillator_plt = MACD_MAIN(history, stk_code, start_day, end_day, shortDay = 12, longDay = 26, MoveDay = 9)"
   ]
  },
  {
   "cell_type": "code",
   "execution_count": 26,
   "metadata": {},
   "outputs": [
    {
     "data": {
      "application/vnd.plotly.v1+json": {
       "config": {
        "plotlyServerURL": "https://plot.ly"
       },
       "data": [
        {
         "hovertemplate": "variable=C_PRC<br>DT=%{x}<br>value=%{y}<extra></extra>",
         "legendgroup": "C_PRC",
         "line": {
          "color": "#636efa",
          "dash": "solid"
         },
         "marker": {
          "symbol": "circle"
         },
         "mode": "lines",
         "name": "C_PRC",
         "orientation": "v",
         "showlegend": true,
         "type": "scatter",
         "x": [
          "2019-03-05T00:00:00",
          "2019-03-06T00:00:00",
          "2019-03-07T00:00:00",
          "2019-03-08T00:00:00",
          "2019-03-11T00:00:00",
          "2019-03-12T00:00:00",
          "2019-03-13T00:00:00",
          "2019-03-14T00:00:00",
          "2019-03-15T00:00:00",
          "2019-03-18T00:00:00",
          "2019-03-19T00:00:00",
          "2019-03-20T00:00:00",
          "2019-03-21T00:00:00",
          "2019-03-22T00:00:00",
          "2019-03-25T00:00:00",
          "2019-03-26T00:00:00",
          "2019-03-27T00:00:00",
          "2019-03-28T00:00:00",
          "2019-03-29T00:00:00",
          "2019-04-01T00:00:00",
          "2019-04-02T00:00:00",
          "2019-04-03T00:00:00",
          "2019-04-04T00:00:00",
          "2019-04-05T00:00:00",
          "2019-04-08T00:00:00",
          "2019-04-09T00:00:00",
          "2019-04-10T00:00:00",
          "2019-04-11T00:00:00",
          "2019-04-12T00:00:00",
          "2019-04-15T00:00:00",
          "2019-04-16T00:00:00",
          "2019-04-17T00:00:00",
          "2019-04-18T00:00:00",
          "2019-04-19T00:00:00",
          "2019-04-22T00:00:00",
          "2019-04-23T00:00:00",
          "2019-04-24T00:00:00",
          "2019-04-25T00:00:00",
          "2019-04-26T00:00:00",
          "2019-04-29T00:00:00",
          "2019-04-30T00:00:00",
          "2019-05-02T00:00:00",
          "2019-05-03T00:00:00",
          "2019-05-07T00:00:00",
          "2019-05-08T00:00:00",
          "2019-05-09T00:00:00",
          "2019-05-10T00:00:00",
          "2019-05-13T00:00:00",
          "2019-05-14T00:00:00",
          "2019-05-15T00:00:00",
          "2019-05-16T00:00:00",
          "2019-05-17T00:00:00",
          "2019-05-20T00:00:00",
          "2019-05-21T00:00:00",
          "2019-05-22T00:00:00",
          "2019-05-23T00:00:00",
          "2019-05-24T00:00:00",
          "2019-05-27T00:00:00",
          "2019-05-28T00:00:00",
          "2019-05-29T00:00:00",
          "2019-05-30T00:00:00",
          "2019-05-31T00:00:00",
          "2019-06-03T00:00:00",
          "2019-06-04T00:00:00",
          "2019-06-05T00:00:00",
          "2019-06-07T00:00:00",
          "2019-06-10T00:00:00",
          "2019-06-11T00:00:00",
          "2019-06-12T00:00:00",
          "2019-06-13T00:00:00",
          "2019-06-14T00:00:00",
          "2019-06-17T00:00:00",
          "2019-06-18T00:00:00",
          "2019-06-19T00:00:00",
          "2019-06-20T00:00:00",
          "2019-06-21T00:00:00",
          "2019-06-24T00:00:00",
          "2019-06-25T00:00:00",
          "2019-06-26T00:00:00",
          "2019-06-27T00:00:00",
          "2019-06-28T00:00:00",
          "2019-07-01T00:00:00",
          "2019-07-02T00:00:00",
          "2019-07-03T00:00:00",
          "2019-07-04T00:00:00",
          "2019-07-05T00:00:00",
          "2019-07-08T00:00:00",
          "2019-07-09T00:00:00",
          "2019-07-10T00:00:00",
          "2019-07-11T00:00:00",
          "2019-07-12T00:00:00",
          "2019-07-15T00:00:00",
          "2019-07-16T00:00:00",
          "2019-07-17T00:00:00",
          "2019-07-18T00:00:00",
          "2019-07-19T00:00:00",
          "2019-07-22T00:00:00",
          "2019-07-23T00:00:00",
          "2019-07-24T00:00:00",
          "2019-07-25T00:00:00",
          "2019-07-26T00:00:00",
          "2019-07-29T00:00:00",
          "2019-07-30T00:00:00",
          "2019-07-31T00:00:00",
          "2019-08-01T00:00:00",
          "2019-08-02T00:00:00",
          "2019-08-05T00:00:00",
          "2019-08-06T00:00:00",
          "2019-08-07T00:00:00",
          "2019-08-08T00:00:00",
          "2019-08-09T00:00:00",
          "2019-08-12T00:00:00",
          "2019-08-13T00:00:00",
          "2019-08-14T00:00:00",
          "2019-08-16T00:00:00",
          "2019-08-19T00:00:00",
          "2019-08-20T00:00:00",
          "2019-08-21T00:00:00",
          "2019-08-22T00:00:00",
          "2019-08-23T00:00:00",
          "2019-08-26T00:00:00",
          "2019-08-27T00:00:00",
          "2019-08-28T00:00:00",
          "2019-08-29T00:00:00",
          "2019-08-30T00:00:00",
          "2019-09-02T00:00:00",
          "2019-09-03T00:00:00",
          "2019-09-04T00:00:00",
          "2019-09-05T00:00:00",
          "2019-09-06T00:00:00",
          "2019-09-09T00:00:00",
          "2019-09-10T00:00:00",
          "2019-09-11T00:00:00",
          "2019-09-16T00:00:00",
          "2019-09-17T00:00:00",
          "2019-09-18T00:00:00",
          "2019-09-19T00:00:00",
          "2019-09-20T00:00:00",
          "2019-09-23T00:00:00",
          "2019-09-24T00:00:00",
          "2019-09-25T00:00:00",
          "2019-09-26T00:00:00",
          "2019-09-27T00:00:00",
          "2019-09-30T00:00:00",
          "2019-10-01T00:00:00",
          "2019-10-02T00:00:00",
          "2019-10-04T00:00:00",
          "2019-10-07T00:00:00",
          "2019-10-08T00:00:00",
          "2019-10-10T00:00:00",
          "2019-10-11T00:00:00",
          "2019-10-14T00:00:00",
          "2019-10-15T00:00:00",
          "2019-10-16T00:00:00",
          "2019-10-17T00:00:00",
          "2019-10-18T00:00:00",
          "2019-10-21T00:00:00",
          "2019-10-22T00:00:00",
          "2019-10-23T00:00:00",
          "2019-10-24T00:00:00",
          "2019-10-25T00:00:00",
          "2019-10-28T00:00:00",
          "2019-10-29T00:00:00",
          "2019-10-30T00:00:00",
          "2019-10-31T00:00:00",
          "2019-11-01T00:00:00",
          "2019-11-04T00:00:00",
          "2019-11-05T00:00:00",
          "2019-11-06T00:00:00",
          "2019-11-07T00:00:00",
          "2019-11-08T00:00:00",
          "2019-11-11T00:00:00",
          "2019-11-12T00:00:00",
          "2019-11-13T00:00:00",
          "2019-11-14T00:00:00",
          "2019-11-15T00:00:00",
          "2019-11-18T00:00:00",
          "2019-11-19T00:00:00",
          "2019-11-20T00:00:00",
          "2019-11-21T00:00:00",
          "2019-11-22T00:00:00",
          "2019-11-25T00:00:00",
          "2019-11-26T00:00:00",
          "2019-11-27T00:00:00",
          "2019-11-28T00:00:00",
          "2019-11-29T00:00:00",
          "2019-12-02T00:00:00",
          "2019-12-03T00:00:00",
          "2019-12-04T00:00:00",
          "2019-12-05T00:00:00",
          "2019-12-06T00:00:00",
          "2019-12-09T00:00:00",
          "2019-12-10T00:00:00",
          "2019-12-11T00:00:00",
          "2019-12-12T00:00:00",
          "2019-12-13T00:00:00",
          "2019-12-16T00:00:00",
          "2019-12-17T00:00:00",
          "2019-12-18T00:00:00",
          "2019-12-19T00:00:00",
          "2019-12-20T00:00:00",
          "2019-12-23T00:00:00",
          "2019-12-24T00:00:00",
          "2019-12-26T00:00:00",
          "2019-12-27T00:00:00",
          "2019-12-30T00:00:00",
          "2020-01-02T00:00:00",
          "2020-01-03T00:00:00",
          "2020-01-06T00:00:00",
          "2020-01-07T00:00:00",
          "2020-01-08T00:00:00",
          "2020-01-09T00:00:00",
          "2020-01-10T00:00:00",
          "2020-01-13T00:00:00",
          "2020-01-14T00:00:00",
          "2020-01-15T00:00:00",
          "2020-01-16T00:00:00",
          "2020-01-17T00:00:00",
          "2020-01-20T00:00:00",
          "2020-01-21T00:00:00",
          "2020-01-22T00:00:00",
          "2020-01-23T00:00:00",
          "2020-01-28T00:00:00",
          "2020-01-29T00:00:00",
          "2020-01-30T00:00:00",
          "2020-01-31T00:00:00",
          "2020-02-03T00:00:00",
          "2020-02-04T00:00:00",
          "2020-02-05T00:00:00",
          "2020-02-06T00:00:00",
          "2020-02-07T00:00:00",
          "2020-02-10T00:00:00",
          "2020-02-11T00:00:00",
          "2020-02-12T00:00:00",
          "2020-02-13T00:00:00",
          "2020-02-14T00:00:00",
          "2020-02-17T00:00:00",
          "2020-02-18T00:00:00",
          "2020-02-19T00:00:00",
          "2020-02-20T00:00:00",
          "2020-02-21T00:00:00",
          "2020-02-24T00:00:00",
          "2020-02-25T00:00:00",
          "2020-02-26T00:00:00",
          "2020-02-27T00:00:00",
          "2020-02-28T00:00:00",
          "2020-03-02T00:00:00",
          "2020-03-03T00:00:00",
          "2020-03-04T00:00:00",
          "2020-03-05T00:00:00",
          "2020-03-06T00:00:00",
          "2020-03-09T00:00:00",
          "2020-03-10T00:00:00",
          "2020-03-11T00:00:00",
          "2020-03-12T00:00:00",
          "2020-03-13T00:00:00",
          "2020-03-16T00:00:00",
          "2020-03-17T00:00:00",
          "2020-03-18T00:00:00",
          "2020-03-19T00:00:00"
         ],
         "xaxis": "x",
         "y": [
          63200,
          68700,
          70000,
          69900,
          69200,
          67200,
          66000,
          70000,
          68400,
          67600,
          72700,
          71400,
          73000,
          69900,
          67400,
          68300,
          70500,
          62600,
          61100,
          60900,
          59200,
          61100,
          60900,
          59600,
          63500,
          64800,
          66200,
          67000,
          66000,
          63900,
          62600,
          63000,
          63000,
          63300,
          64500,
          63900,
          62700,
          62700,
          61600,
          62300,
          62000,
          64100,
          65300,
          64400,
          63300,
          58600,
          59000,
          56600,
          55000,
          59000,
          58300,
          56100,
          53900,
          53400,
          54900,
          55900,
          56500,
          59000,
          59200,
          59100,
          62400,
          59800,
          62000,
          64500,
          65100,
          67000,
          65800,
          66500,
          65800,
          66100,
          64500,
          63400,
          60000,
          57900,
          58600,
          58600,
          58100,
          59400,
          58700,
          59300,
          59700,
          59900,
          58400,
          59800,
          60200,
          60000,
          56400,
          56100,
          56800,
          59400,
          63400,
          63500,
          63300,
          65300,
          63900,
          63300,
          61800,
          58000,
          58300,
          57100,
          56900,
          54300,
          56000,
          57700,
          56400,
          56100,
          50900,
          49350,
          51000,
          53600,
          53300,
          53000,
          51300,
          53500,
          52300,
          52700,
          57800,
          58000,
          58600,
          59000,
          56100,
          56300,
          59200,
          59300,
          59400,
          57600,
          57500,
          56600,
          56800,
          55600,
          53100,
          53900,
          53600,
          54600,
          52700,
          52400,
          52600,
          53300,
          52500,
          52500,
          49450,
          48400,
          49500,
          49400,
          49950,
          48400,
          47300,
          45150,
          46800,
          49000,
          48800,
          50500,
          49900,
          50600,
          49450,
          49750,
          47900,
          48000,
          47350,
          49400,
          48250,
          52300,
          51200,
          51700,
          51500,
          51200,
          51200,
          51200,
          51500,
          50400,
          50600,
          50900,
          49600,
          48700,
          48950,
          50900,
          51500,
          51900,
          52400,
          50800,
          53300,
          53500,
          53100,
          53200,
          50900,
          49850,
          50500,
          50500,
          48050,
          48200,
          49000,
          50300,
          49100,
          49200,
          49450,
          49950,
          49300,
          49600,
          48550,
          48750,
          48700,
          48800,
          48700,
          50700,
          51700,
          53000,
          53000,
          51300,
          51300,
          52300,
          50000,
          55500,
          56700,
          56200,
          56900,
          55400,
          55600,
          54500,
          56300,
          55200,
          56100,
          57300,
          55200,
          55100,
          55000,
          52900,
          64000,
          65100,
          66400,
          70000,
          75600,
          78000,
          87600,
          88000,
          89500,
          88500,
          86300,
          85300,
          85800,
          91600,
          85800,
          85200,
          89400,
          87500,
          84700,
          81300,
          84800,
          84800,
          86900,
          85400,
          83600,
          77500,
          82200,
          78400,
          78100,
          78100,
          70500,
          70800,
          63200,
          54300
         ],
         "yaxis": "y"
        },
        {
         "hovertemplate": "variable=ema_short<br>DT=%{x}<br>value=%{y}<extra></extra>",
         "legendgroup": "ema_short",
         "line": {
          "color": "#EF553B",
          "dash": "solid"
         },
         "marker": {
          "symbol": "circle"
         },
         "mode": "lines",
         "name": "ema_short",
         "orientation": "v",
         "showlegend": true,
         "type": "scatter",
         "x": [
          "2019-03-05T00:00:00",
          "2019-03-06T00:00:00",
          "2019-03-07T00:00:00",
          "2019-03-08T00:00:00",
          "2019-03-11T00:00:00",
          "2019-03-12T00:00:00",
          "2019-03-13T00:00:00",
          "2019-03-14T00:00:00",
          "2019-03-15T00:00:00",
          "2019-03-18T00:00:00",
          "2019-03-19T00:00:00",
          "2019-03-20T00:00:00",
          "2019-03-21T00:00:00",
          "2019-03-22T00:00:00",
          "2019-03-25T00:00:00",
          "2019-03-26T00:00:00",
          "2019-03-27T00:00:00",
          "2019-03-28T00:00:00",
          "2019-03-29T00:00:00",
          "2019-04-01T00:00:00",
          "2019-04-02T00:00:00",
          "2019-04-03T00:00:00",
          "2019-04-04T00:00:00",
          "2019-04-05T00:00:00",
          "2019-04-08T00:00:00",
          "2019-04-09T00:00:00",
          "2019-04-10T00:00:00",
          "2019-04-11T00:00:00",
          "2019-04-12T00:00:00",
          "2019-04-15T00:00:00",
          "2019-04-16T00:00:00",
          "2019-04-17T00:00:00",
          "2019-04-18T00:00:00",
          "2019-04-19T00:00:00",
          "2019-04-22T00:00:00",
          "2019-04-23T00:00:00",
          "2019-04-24T00:00:00",
          "2019-04-25T00:00:00",
          "2019-04-26T00:00:00",
          "2019-04-29T00:00:00",
          "2019-04-30T00:00:00",
          "2019-05-02T00:00:00",
          "2019-05-03T00:00:00",
          "2019-05-07T00:00:00",
          "2019-05-08T00:00:00",
          "2019-05-09T00:00:00",
          "2019-05-10T00:00:00",
          "2019-05-13T00:00:00",
          "2019-05-14T00:00:00",
          "2019-05-15T00:00:00",
          "2019-05-16T00:00:00",
          "2019-05-17T00:00:00",
          "2019-05-20T00:00:00",
          "2019-05-21T00:00:00",
          "2019-05-22T00:00:00",
          "2019-05-23T00:00:00",
          "2019-05-24T00:00:00",
          "2019-05-27T00:00:00",
          "2019-05-28T00:00:00",
          "2019-05-29T00:00:00",
          "2019-05-30T00:00:00",
          "2019-05-31T00:00:00",
          "2019-06-03T00:00:00",
          "2019-06-04T00:00:00",
          "2019-06-05T00:00:00",
          "2019-06-07T00:00:00",
          "2019-06-10T00:00:00",
          "2019-06-11T00:00:00",
          "2019-06-12T00:00:00",
          "2019-06-13T00:00:00",
          "2019-06-14T00:00:00",
          "2019-06-17T00:00:00",
          "2019-06-18T00:00:00",
          "2019-06-19T00:00:00",
          "2019-06-20T00:00:00",
          "2019-06-21T00:00:00",
          "2019-06-24T00:00:00",
          "2019-06-25T00:00:00",
          "2019-06-26T00:00:00",
          "2019-06-27T00:00:00",
          "2019-06-28T00:00:00",
          "2019-07-01T00:00:00",
          "2019-07-02T00:00:00",
          "2019-07-03T00:00:00",
          "2019-07-04T00:00:00",
          "2019-07-05T00:00:00",
          "2019-07-08T00:00:00",
          "2019-07-09T00:00:00",
          "2019-07-10T00:00:00",
          "2019-07-11T00:00:00",
          "2019-07-12T00:00:00",
          "2019-07-15T00:00:00",
          "2019-07-16T00:00:00",
          "2019-07-17T00:00:00",
          "2019-07-18T00:00:00",
          "2019-07-19T00:00:00",
          "2019-07-22T00:00:00",
          "2019-07-23T00:00:00",
          "2019-07-24T00:00:00",
          "2019-07-25T00:00:00",
          "2019-07-26T00:00:00",
          "2019-07-29T00:00:00",
          "2019-07-30T00:00:00",
          "2019-07-31T00:00:00",
          "2019-08-01T00:00:00",
          "2019-08-02T00:00:00",
          "2019-08-05T00:00:00",
          "2019-08-06T00:00:00",
          "2019-08-07T00:00:00",
          "2019-08-08T00:00:00",
          "2019-08-09T00:00:00",
          "2019-08-12T00:00:00",
          "2019-08-13T00:00:00",
          "2019-08-14T00:00:00",
          "2019-08-16T00:00:00",
          "2019-08-19T00:00:00",
          "2019-08-20T00:00:00",
          "2019-08-21T00:00:00",
          "2019-08-22T00:00:00",
          "2019-08-23T00:00:00",
          "2019-08-26T00:00:00",
          "2019-08-27T00:00:00",
          "2019-08-28T00:00:00",
          "2019-08-29T00:00:00",
          "2019-08-30T00:00:00",
          "2019-09-02T00:00:00",
          "2019-09-03T00:00:00",
          "2019-09-04T00:00:00",
          "2019-09-05T00:00:00",
          "2019-09-06T00:00:00",
          "2019-09-09T00:00:00",
          "2019-09-10T00:00:00",
          "2019-09-11T00:00:00",
          "2019-09-16T00:00:00",
          "2019-09-17T00:00:00",
          "2019-09-18T00:00:00",
          "2019-09-19T00:00:00",
          "2019-09-20T00:00:00",
          "2019-09-23T00:00:00",
          "2019-09-24T00:00:00",
          "2019-09-25T00:00:00",
          "2019-09-26T00:00:00",
          "2019-09-27T00:00:00",
          "2019-09-30T00:00:00",
          "2019-10-01T00:00:00",
          "2019-10-02T00:00:00",
          "2019-10-04T00:00:00",
          "2019-10-07T00:00:00",
          "2019-10-08T00:00:00",
          "2019-10-10T00:00:00",
          "2019-10-11T00:00:00",
          "2019-10-14T00:00:00",
          "2019-10-15T00:00:00",
          "2019-10-16T00:00:00",
          "2019-10-17T00:00:00",
          "2019-10-18T00:00:00",
          "2019-10-21T00:00:00",
          "2019-10-22T00:00:00",
          "2019-10-23T00:00:00",
          "2019-10-24T00:00:00",
          "2019-10-25T00:00:00",
          "2019-10-28T00:00:00",
          "2019-10-29T00:00:00",
          "2019-10-30T00:00:00",
          "2019-10-31T00:00:00",
          "2019-11-01T00:00:00",
          "2019-11-04T00:00:00",
          "2019-11-05T00:00:00",
          "2019-11-06T00:00:00",
          "2019-11-07T00:00:00",
          "2019-11-08T00:00:00",
          "2019-11-11T00:00:00",
          "2019-11-12T00:00:00",
          "2019-11-13T00:00:00",
          "2019-11-14T00:00:00",
          "2019-11-15T00:00:00",
          "2019-11-18T00:00:00",
          "2019-11-19T00:00:00",
          "2019-11-20T00:00:00",
          "2019-11-21T00:00:00",
          "2019-11-22T00:00:00",
          "2019-11-25T00:00:00",
          "2019-11-26T00:00:00",
          "2019-11-27T00:00:00",
          "2019-11-28T00:00:00",
          "2019-11-29T00:00:00",
          "2019-12-02T00:00:00",
          "2019-12-03T00:00:00",
          "2019-12-04T00:00:00",
          "2019-12-05T00:00:00",
          "2019-12-06T00:00:00",
          "2019-12-09T00:00:00",
          "2019-12-10T00:00:00",
          "2019-12-11T00:00:00",
          "2019-12-12T00:00:00",
          "2019-12-13T00:00:00",
          "2019-12-16T00:00:00",
          "2019-12-17T00:00:00",
          "2019-12-18T00:00:00",
          "2019-12-19T00:00:00",
          "2019-12-20T00:00:00",
          "2019-12-23T00:00:00",
          "2019-12-24T00:00:00",
          "2019-12-26T00:00:00",
          "2019-12-27T00:00:00",
          "2019-12-30T00:00:00",
          "2020-01-02T00:00:00",
          "2020-01-03T00:00:00",
          "2020-01-06T00:00:00",
          "2020-01-07T00:00:00",
          "2020-01-08T00:00:00",
          "2020-01-09T00:00:00",
          "2020-01-10T00:00:00",
          "2020-01-13T00:00:00",
          "2020-01-14T00:00:00",
          "2020-01-15T00:00:00",
          "2020-01-16T00:00:00",
          "2020-01-17T00:00:00",
          "2020-01-20T00:00:00",
          "2020-01-21T00:00:00",
          "2020-01-22T00:00:00",
          "2020-01-23T00:00:00",
          "2020-01-28T00:00:00",
          "2020-01-29T00:00:00",
          "2020-01-30T00:00:00",
          "2020-01-31T00:00:00",
          "2020-02-03T00:00:00",
          "2020-02-04T00:00:00",
          "2020-02-05T00:00:00",
          "2020-02-06T00:00:00",
          "2020-02-07T00:00:00",
          "2020-02-10T00:00:00",
          "2020-02-11T00:00:00",
          "2020-02-12T00:00:00",
          "2020-02-13T00:00:00",
          "2020-02-14T00:00:00",
          "2020-02-17T00:00:00",
          "2020-02-18T00:00:00",
          "2020-02-19T00:00:00",
          "2020-02-20T00:00:00",
          "2020-02-21T00:00:00",
          "2020-02-24T00:00:00",
          "2020-02-25T00:00:00",
          "2020-02-26T00:00:00",
          "2020-02-27T00:00:00",
          "2020-02-28T00:00:00",
          "2020-03-02T00:00:00",
          "2020-03-03T00:00:00",
          "2020-03-04T00:00:00",
          "2020-03-05T00:00:00",
          "2020-03-06T00:00:00",
          "2020-03-09T00:00:00",
          "2020-03-10T00:00:00",
          "2020-03-11T00:00:00",
          "2020-03-12T00:00:00",
          "2020-03-13T00:00:00",
          "2020-03-16T00:00:00",
          "2020-03-17T00:00:00",
          "2020-03-18T00:00:00",
          "2020-03-19T00:00:00"
         ],
         "xaxis": "x",
         "y": [
          63200,
          66060,
          67479.74413646055,
          68159.2715654952,
          68401.99573741845,
          68159.55411296566,
          67772.29446586507,
          68134.6679510078,
          68174.4201407524,
          68094.20750482043,
          68699.40826984214,
          69035.93300192078,
          69507.41694086803,
          69552.22776486231,
          69315.38041789265,
          69207.22296833136,
          69340.97007880837,
          68661.59473125167,
          67917.27380752027,
          67241.07862159754,
          66481.00273880354,
          65981.1658396365,
          65516.59787944346,
          64983.381871824386,
          64851.43796295619,
          64846.91702116577,
          64964.550825797814,
          65139.75334677785,
          65213.128034732064,
          65102.05474636699,
          64892.02358024159,
          64734.30777657946,
          64590.66326820864,
          64484.390975148366,
          64485.669287514866,
          64437.94280499307,
          64296.96090234471,
          64167.956868895664,
          63961.312061252946,
          63828.09799519537,
          63681.98678068375,
          63715.296595220025,
          63841.22737952534,
          63885.518417276166,
          63839.215808499524,
          63425.79189263831,
          63077.24721201573,
          62568.07591328474,
          61974.15685771348,
          61741.116380440224,
          61471.872798161974,
          61052.114951979085,
          60493.928321032254,
          59940.90330180521,
          59548.33309940353,
          59264.4827835158,
          59049.587480718736,
          59045.73595427148,
          59057.70889157933,
          59060.98897897183,
          59319.797033476985,
          59356.995906375,
          59561.62507181973,
          59943.77758482582,
          60342.60413148746,
          60857.32531002812,
          61239.321653374354,
          61645.74778338176,
          61966.58709791732,
          62285.71851834144,
          62456.62951137104,
          62529.425154960256,
          62334.28813320687,
          61992.27356629095,
          61730.68310148186,
          61489.310811754614,
          61228.04454675035,
          61087.15192883781,
          60903.194860317344,
          60779.66763124366,
          60696.48913550707,
          60635.1341725476,
          60462.976556170375,
          60411.91697481557,
          60395.597558763104,
          60365.13577303588,
          60059.83664521889,
          59754.96772456195,
          59527.47922784483,
          59517.665834962274,
          59816.51208621147,
          60100.03698111626,
          60346.332054654406,
          60727.58929892771,
          60971.74258344333,
          61150.921745386324,
          61200.87205547093,
          60954.55456555236,
          60750.28414135871,
          60469.399228731854,
          60194.7453710275,
          59741.17432409376,
          59453.31605592722,
          59318.41287386494,
          59093.869309281734,
          58863.5240713094,
          58250.82842756779,
          57566.02874308666,
          57060.86750573655,
          56794.60698220706,
          56525.753828072295,
          56254.50732079964,
          55873.346396058216,
          55690.76140095032,
          55429.90737347198,
          55219.89500730136,
          55418.38162666099,
          55616.983360978134,
          55846.46293085212,
          56089.05905213995,
          56089.90071586466,
          56106.063127219546,
          56344.070885256835,
          56571.4611721792,
          56789.050907974524,
          56851.43420777785,
          56901.32580383153,
          56878.146072543204,
          56872.13463910294,
          56774.27516678461,
          56491.630719540786,
          56292.26936940055,
          56085.1667958452,
          55970.92068590204,
          55719.30629907081,
          55463.9702648805,
          55243.66105252832,
          55094.14627873466,
          54894.59362649234,
          54710.39161296296,
          54305.74102708613,
          53851.447994182,
          53516.717646792706,
          53200.04393344338,
          52950.038276520936,
          52600.03238905408,
          52192.33442536822,
          51650.612511280866,
          51277.48600419526,
          51102.29370355828,
          50925.19318987413,
          50892.485851282814,
          50816.14041920937,
          50799.514159422666,
          50695.704953202076,
          50622.958143598175,
          50413.49909464873,
          50227.844720699904,
          50006.4713922941,
          49959.81961881516,
          49828.29469985618,
          50018.42632100524,
          50109.31680002244,
          50231.67728976249,
          50329.24075444861,
          50396.2223484933,
          50458.05149541949,
          50515.124539799515,
          50590.8842916589,
          50576.20086652526,
          50578.03157118136,
          50602.798399387095,
          50525.65998625451,
          50385.22447713094,
          50274.82250315586,
          50322.913116474,
          50413.45832503616,
          50527.807758878705,
          50671.8226329532,
          50681.682435872004,
          50883.09158210076,
          51084.39232450433,
          51239.43913622562,
          51390.25157092542,
          51352.53989764415,
          51236.95986596909,
          51180.27062760442,
          51127.942102531924,
          50891.17726169359,
          50684.16357475079,
          50554.61250083083,
          50535.02691969801,
          50424.640211998376,
          50330.43710177683,
          50262.711159595194,
          50238.656451314135,
          50166.452098662325,
          50122.878854597795,
          50001.88815884999,
          49905.58905896282,
          49812.85142949108,
          49734.93977366144,
          49655.32901485476,
          49735.68832791418,
          49886.789237065816,
          50126.26700459069,
          50347.32340293763,
          50420.60622240634,
          50488.25190127833,
          50627.617146625664,
          50579.338902344236,
          50957.851310634294,
          51399.55507338027,
          51768.82008117093,
          52163.52624202943,
          52412.48576959148,
          52657.679178947285,
          52799.396168925654,
          53068.67339326656,
          53232.62159747466,
          53453.18917148233,
          53749.09770242797,
          53860.70557344778,
          53956.03591550962,
          54036.34084629716,
          53948.93001074949,
          54722.08925062919,
          55520.3900869751,
          56357.28316637311,
          57406.722933414916,
          58806.20579775003,
          60282.65151833312,
          62383.98603363088,
          64354.44866089073,
          66288.72185392678,
          67997.281722002,
          69405.18313612926,
          70627.86136294225,
          71794.94895614886,
          73318.41442797764,
          74278.53639908029,
          75118.64898701661,
          76217.21445347693,
          77085.12103683972,
          77670.88095886521,
          77950.04396281354,
          78476.9636593479,
          78963.35107133136,
          79573.86252873154,
          80022.02695051227,
          80297.2556471448,
          80082.08213545209,
          80244.99889452478,
          80103.07590242813,
          79948.99314049231,
          79806.76289873656,
          79090.85805953854,
          78453.0997465808,
          77279.78438029501,
          75512.10865711482
         ],
         "yaxis": "y"
        },
        {
         "hovertemplate": "variable=ema_long<br>DT=%{x}<br>value=%{y}<extra></extra>",
         "legendgroup": "ema_long",
         "line": {
          "color": "#00cc96",
          "dash": "solid"
         },
         "marker": {
          "symbol": "circle"
         },
         "mode": "lines",
         "name": "ema_long",
         "orientation": "v",
         "showlegend": true,
         "type": "scatter",
         "x": [
          "2019-03-05T00:00:00",
          "2019-03-06T00:00:00",
          "2019-03-07T00:00:00",
          "2019-03-08T00:00:00",
          "2019-03-11T00:00:00",
          "2019-03-12T00:00:00",
          "2019-03-13T00:00:00",
          "2019-03-14T00:00:00",
          "2019-03-15T00:00:00",
          "2019-03-18T00:00:00",
          "2019-03-19T00:00:00",
          "2019-03-20T00:00:00",
          "2019-03-21T00:00:00",
          "2019-03-22T00:00:00",
          "2019-03-25T00:00:00",
          "2019-03-26T00:00:00",
          "2019-03-27T00:00:00",
          "2019-03-28T00:00:00",
          "2019-03-29T00:00:00",
          "2019-04-01T00:00:00",
          "2019-04-02T00:00:00",
          "2019-04-03T00:00:00",
          "2019-04-04T00:00:00",
          "2019-04-05T00:00:00",
          "2019-04-08T00:00:00",
          "2019-04-09T00:00:00",
          "2019-04-10T00:00:00",
          "2019-04-11T00:00:00",
          "2019-04-12T00:00:00",
          "2019-04-15T00:00:00",
          "2019-04-16T00:00:00",
          "2019-04-17T00:00:00",
          "2019-04-18T00:00:00",
          "2019-04-19T00:00:00",
          "2019-04-22T00:00:00",
          "2019-04-23T00:00:00",
          "2019-04-24T00:00:00",
          "2019-04-25T00:00:00",
          "2019-04-26T00:00:00",
          "2019-04-29T00:00:00",
          "2019-04-30T00:00:00",
          "2019-05-02T00:00:00",
          "2019-05-03T00:00:00",
          "2019-05-07T00:00:00",
          "2019-05-08T00:00:00",
          "2019-05-09T00:00:00",
          "2019-05-10T00:00:00",
          "2019-05-13T00:00:00",
          "2019-05-14T00:00:00",
          "2019-05-15T00:00:00",
          "2019-05-16T00:00:00",
          "2019-05-17T00:00:00",
          "2019-05-20T00:00:00",
          "2019-05-21T00:00:00",
          "2019-05-22T00:00:00",
          "2019-05-23T00:00:00",
          "2019-05-24T00:00:00",
          "2019-05-27T00:00:00",
          "2019-05-28T00:00:00",
          "2019-05-29T00:00:00",
          "2019-05-30T00:00:00",
          "2019-05-31T00:00:00",
          "2019-06-03T00:00:00",
          "2019-06-04T00:00:00",
          "2019-06-05T00:00:00",
          "2019-06-07T00:00:00",
          "2019-06-10T00:00:00",
          "2019-06-11T00:00:00",
          "2019-06-12T00:00:00",
          "2019-06-13T00:00:00",
          "2019-06-14T00:00:00",
          "2019-06-17T00:00:00",
          "2019-06-18T00:00:00",
          "2019-06-19T00:00:00",
          "2019-06-20T00:00:00",
          "2019-06-21T00:00:00",
          "2019-06-24T00:00:00",
          "2019-06-25T00:00:00",
          "2019-06-26T00:00:00",
          "2019-06-27T00:00:00",
          "2019-06-28T00:00:00",
          "2019-07-01T00:00:00",
          "2019-07-02T00:00:00",
          "2019-07-03T00:00:00",
          "2019-07-04T00:00:00",
          "2019-07-05T00:00:00",
          "2019-07-08T00:00:00",
          "2019-07-09T00:00:00",
          "2019-07-10T00:00:00",
          "2019-07-11T00:00:00",
          "2019-07-12T00:00:00",
          "2019-07-15T00:00:00",
          "2019-07-16T00:00:00",
          "2019-07-17T00:00:00",
          "2019-07-18T00:00:00",
          "2019-07-19T00:00:00",
          "2019-07-22T00:00:00",
          "2019-07-23T00:00:00",
          "2019-07-24T00:00:00",
          "2019-07-25T00:00:00",
          "2019-07-26T00:00:00",
          "2019-07-29T00:00:00",
          "2019-07-30T00:00:00",
          "2019-07-31T00:00:00",
          "2019-08-01T00:00:00",
          "2019-08-02T00:00:00",
          "2019-08-05T00:00:00",
          "2019-08-06T00:00:00",
          "2019-08-07T00:00:00",
          "2019-08-08T00:00:00",
          "2019-08-09T00:00:00",
          "2019-08-12T00:00:00",
          "2019-08-13T00:00:00",
          "2019-08-14T00:00:00",
          "2019-08-16T00:00:00",
          "2019-08-19T00:00:00",
          "2019-08-20T00:00:00",
          "2019-08-21T00:00:00",
          "2019-08-22T00:00:00",
          "2019-08-23T00:00:00",
          "2019-08-26T00:00:00",
          "2019-08-27T00:00:00",
          "2019-08-28T00:00:00",
          "2019-08-29T00:00:00",
          "2019-08-30T00:00:00",
          "2019-09-02T00:00:00",
          "2019-09-03T00:00:00",
          "2019-09-04T00:00:00",
          "2019-09-05T00:00:00",
          "2019-09-06T00:00:00",
          "2019-09-09T00:00:00",
          "2019-09-10T00:00:00",
          "2019-09-11T00:00:00",
          "2019-09-16T00:00:00",
          "2019-09-17T00:00:00",
          "2019-09-18T00:00:00",
          "2019-09-19T00:00:00",
          "2019-09-20T00:00:00",
          "2019-09-23T00:00:00",
          "2019-09-24T00:00:00",
          "2019-09-25T00:00:00",
          "2019-09-26T00:00:00",
          "2019-09-27T00:00:00",
          "2019-09-30T00:00:00",
          "2019-10-01T00:00:00",
          "2019-10-02T00:00:00",
          "2019-10-04T00:00:00",
          "2019-10-07T00:00:00",
          "2019-10-08T00:00:00",
          "2019-10-10T00:00:00",
          "2019-10-11T00:00:00",
          "2019-10-14T00:00:00",
          "2019-10-15T00:00:00",
          "2019-10-16T00:00:00",
          "2019-10-17T00:00:00",
          "2019-10-18T00:00:00",
          "2019-10-21T00:00:00",
          "2019-10-22T00:00:00",
          "2019-10-23T00:00:00",
          "2019-10-24T00:00:00",
          "2019-10-25T00:00:00",
          "2019-10-28T00:00:00",
          "2019-10-29T00:00:00",
          "2019-10-30T00:00:00",
          "2019-10-31T00:00:00",
          "2019-11-01T00:00:00",
          "2019-11-04T00:00:00",
          "2019-11-05T00:00:00",
          "2019-11-06T00:00:00",
          "2019-11-07T00:00:00",
          "2019-11-08T00:00:00",
          "2019-11-11T00:00:00",
          "2019-11-12T00:00:00",
          "2019-11-13T00:00:00",
          "2019-11-14T00:00:00",
          "2019-11-15T00:00:00",
          "2019-11-18T00:00:00",
          "2019-11-19T00:00:00",
          "2019-11-20T00:00:00",
          "2019-11-21T00:00:00",
          "2019-11-22T00:00:00",
          "2019-11-25T00:00:00",
          "2019-11-26T00:00:00",
          "2019-11-27T00:00:00",
          "2019-11-28T00:00:00",
          "2019-11-29T00:00:00",
          "2019-12-02T00:00:00",
          "2019-12-03T00:00:00",
          "2019-12-04T00:00:00",
          "2019-12-05T00:00:00",
          "2019-12-06T00:00:00",
          "2019-12-09T00:00:00",
          "2019-12-10T00:00:00",
          "2019-12-11T00:00:00",
          "2019-12-12T00:00:00",
          "2019-12-13T00:00:00",
          "2019-12-16T00:00:00",
          "2019-12-17T00:00:00",
          "2019-12-18T00:00:00",
          "2019-12-19T00:00:00",
          "2019-12-20T00:00:00",
          "2019-12-23T00:00:00",
          "2019-12-24T00:00:00",
          "2019-12-26T00:00:00",
          "2019-12-27T00:00:00",
          "2019-12-30T00:00:00",
          "2020-01-02T00:00:00",
          "2020-01-03T00:00:00",
          "2020-01-06T00:00:00",
          "2020-01-07T00:00:00",
          "2020-01-08T00:00:00",
          "2020-01-09T00:00:00",
          "2020-01-10T00:00:00",
          "2020-01-13T00:00:00",
          "2020-01-14T00:00:00",
          "2020-01-15T00:00:00",
          "2020-01-16T00:00:00",
          "2020-01-17T00:00:00",
          "2020-01-20T00:00:00",
          "2020-01-21T00:00:00",
          "2020-01-22T00:00:00",
          "2020-01-23T00:00:00",
          "2020-01-28T00:00:00",
          "2020-01-29T00:00:00",
          "2020-01-30T00:00:00",
          "2020-01-31T00:00:00",
          "2020-02-03T00:00:00",
          "2020-02-04T00:00:00",
          "2020-02-05T00:00:00",
          "2020-02-06T00:00:00",
          "2020-02-07T00:00:00",
          "2020-02-10T00:00:00",
          "2020-02-11T00:00:00",
          "2020-02-12T00:00:00",
          "2020-02-13T00:00:00",
          "2020-02-14T00:00:00",
          "2020-02-17T00:00:00",
          "2020-02-18T00:00:00",
          "2020-02-19T00:00:00",
          "2020-02-20T00:00:00",
          "2020-02-21T00:00:00",
          "2020-02-24T00:00:00",
          "2020-02-25T00:00:00",
          "2020-02-26T00:00:00",
          "2020-02-27T00:00:00",
          "2020-02-28T00:00:00",
          "2020-03-02T00:00:00",
          "2020-03-03T00:00:00",
          "2020-03-04T00:00:00",
          "2020-03-05T00:00:00",
          "2020-03-06T00:00:00",
          "2020-03-09T00:00:00",
          "2020-03-10T00:00:00",
          "2020-03-11T00:00:00",
          "2020-03-12T00:00:00",
          "2020-03-13T00:00:00",
          "2020-03-16T00:00:00",
          "2020-03-17T00:00:00",
          "2020-03-18T00:00:00",
          "2020-03-19T00:00:00"
         ],
         "xaxis": "x",
         "y": [
          63200,
          66001.88679245283,
          67385.19221642145,
          68049.92009668972,
          68297.61692963533,
          68096.9970860221,
          67762.46744110086,
          68080.46465319867,
          68121.55862634288,
          68060.11010786361,
          68565.90989059492,
          68854.11409774219,
          69250.11405298949,
          69308.75926435662,
          69145.21519090945,
          69076.15576605611,
          69187.5183547773,
          68692.66707195327,
          68143.23329774465,
          67636.97045410088,
          67066.03149649047,
          66674.30386648267,
          66305.7149907473,
          65888.84206192735,
          65743.97582071173,
          65688.05057868692,
          65717.72177596547,
          65790.51625888712,
          65802.1784515448,
          65698.21924687689,
          65531.824331303185,
          65398.078073753684,
          65273.36617826647,
          65172.254822010385,
          65138.2921259554,
          65076.565200255034,
          64959.595685256965,
          64849.72152307847,
          64693.512152550844,
          64579.714871887336,
          64458.3400461725,
          64441.64739046345,
          64481.254176699484,
          64477.53871418797,
          64424.1579318074,
          64162.30643107352,
          63932.03579516569,
          63607.438789716216,
          63229.115142639675,
          63044.5091547746,
          62838.76641312326,
          62548.38129244123,
          62177.95040418532,
          61804.13614811169,
          61511.74175803249,
          61275.337214334,
          61075.18640468269,
          60988.6302864001,
          60914.37343953582,
          60839.38371809039,
          60903.609644499855,
          60858.37769177227,
          60904.98359117567,
          61051.19378584111,
          61215.263622950464,
          61448.86425822469,
          61623.987060988686,
          61819.6068639546,
          61978.80486141723,
          62143.148100898135,
          62236.86741022588,
          62282.99311883514,
          62192.6942478722,
          62023.33206400109,
          61888.59493519787,
          61759.46063153462,
          61616.08319855789,
          61529.44286236456,
          61419.04983305297,
          61336.536644842476,
          61272.93288255146,
          61219.67139512178,
          61110.47705324057,
          61059.8132010918,
          61026.62617358031,
          60987.06226303438,
          60810.551890676536,
          60629.550818005264,
          60482.60575478581,
          60441.12005762885,
          60554.35969777811,
          60666.95369213116,
          60767.47979540075,
          60940.32788924571,
          61053.07147067038,
          61138.57400980313,
          61163.71775541293,
          61043.56819898594,
          60939.472681725805,
          60793.928396925265,
          60646.44819541269,
          60406.28138492945,
          60239.669982657506,
          60143.71373899437,
          60002.37059173363,
          59855.143061247094,
          59517.51915444923,
          59134.44124507662,
          58828.15876797758,
          58631.42633668546,
          58430.92677639683,
          58226.80165880043,
          57966.59581717574,
          57798.89635094532,
          57592.54377237482,
          57409.03505242839,
          57423.69240016958,
          57445.2884918098,
          57488.54036549293,
          57545.131147347616,
          57491.04563658444,
          57446.486868561944,
          57512.06381818953,
          57578.90401149608,
          57646.96023827803,
          57645.20587190042,
          57639.782934714945,
          57600.96265279845,
          57571.06763011141,
          57497.52086143927,
          57333.48074253086,
          57205.43611785775,
          57071.013170555845,
          56978.90806937614,
          56819.45290761805,
          56654.7978870208,
          56503.76197824338,
          56384.45129449618,
          56239.82066229897,
          56100.60240668677,
          55853.07438308222,
          55575.7296804639,
          55349.67847284237,
          55128.35438532903,
          54935.75430032948,
          54692.706013196905,
          54417.83119948165,
          54073.285589195446,
          53802.92792912494,
          53624.42070700641,
          53445.13785780606,
          53335.705655800695,
          53208.06077394988,
          53111.176108736654,
          52975.18525606193,
          52855.401679348404,
          52671.37671831913,
          52497.916581857215,
          52306.77956072713,
          52198.86365235069,
          52052.272737629966,
          52061.46816017191,
          52029.4938294281,
          52017.265273143756,
          51998.06938694697,
          51968.45493736336,
          51939.94142165567,
          51912.487765434686,
          51897.184450855355,
          51841.64234023102,
          51795.58305047728,
          51762.362928856455,
          51682.15828584077,
          51571.55243767595,
          51474.32624094217,
          51453.02712405085,
          51454.76904758308,
          51471.27904710685,
          51505.716219308066,
          51479.549240301836,
          51547.04622430404,
          51619.4531333664,
          51674.34316257379,
          51730.90350638551,
          51700.10070262831,
          51631.5171343094,
          51589.57297929339,
          51549.18493917843,
          51419.48194430629,
          51300.15012840005,
          51214.89626616207,
          51180.987044744375,
          51103.8605020094,
          51033.30050371653,
          50974.622389642194,
          50936.65013429328,
          50875.99765824078,
          50828.71160562722,
          50744.2686551679,
          50670.36789790558,
          50597.35424696115,
          50530.75301611137,
          50462.91541759364,
          50471.70030996408,
          50517.21275636435,
          50609.2065057592,
          50697.790266982294,
          50720.10302771299,
          50741.58875740162,
          50799.328560652495,
          50769.71349208394,
          50944.96802422153,
          51158.18616886869,
          51344.97806536748,
          51550.78120883095,
          51693.38596419451,
          51838.11553692886,
          51936.73020341958,
          52098.374385183284,
          52213.277881508555,
          52357.264911633494,
          52540.37124983011,
          52638.897820064754,
          52730.069179631006,
          52814.157945677034,
          52817.33790935278,
          53231.5893999529,
          53671.24071810063,
          54142.759441372036,
          54730.16444986243,
          55503.24780742747,
          56336.59214652016,
          57494.671840977586,
          58624.663898779385,
          59768.35576741227,
          60832.634923078,
          61775.99373555505,
          62647.36269378429,
          63504.97152721003,
          64545.649369076804,
          65332.935857224045,
          66068.83254202275,
          66933.03975260262,
          67694.85533222777,
          68324.73626353146,
          68805.34622979791,
          69397.79380671144,
          69968.29502774199,
          70595.44723057892,
          71143.80779861257,
          71605.18373679605,
          71823.52643669289,
          72207.8676844326,
          72437.22167051942,
          72646.96807321897,
          72848.94508204398,
          72761.9417802518,
          72689.27297825839,
          72337.79843519781,
          71669.6952387673
         ],
         "yaxis": "y"
        }
       ],
       "layout": {
        "height": 500,
        "legend": {
         "title": {
          "text": "variable"
         },
         "tracegroupgap": 0
        },
        "template": {
         "data": {
          "bar": [
           {
            "error_x": {
             "color": "#2a3f5f"
            },
            "error_y": {
             "color": "#2a3f5f"
            },
            "marker": {
             "line": {
              "color": "#E5ECF6",
              "width": 0.5
             },
             "pattern": {
              "fillmode": "overlay",
              "size": 10,
              "solidity": 0.2
             }
            },
            "type": "bar"
           }
          ],
          "barpolar": [
           {
            "marker": {
             "line": {
              "color": "#E5ECF6",
              "width": 0.5
             },
             "pattern": {
              "fillmode": "overlay",
              "size": 10,
              "solidity": 0.2
             }
            },
            "type": "barpolar"
           }
          ],
          "carpet": [
           {
            "aaxis": {
             "endlinecolor": "#2a3f5f",
             "gridcolor": "white",
             "linecolor": "white",
             "minorgridcolor": "white",
             "startlinecolor": "#2a3f5f"
            },
            "baxis": {
             "endlinecolor": "#2a3f5f",
             "gridcolor": "white",
             "linecolor": "white",
             "minorgridcolor": "white",
             "startlinecolor": "#2a3f5f"
            },
            "type": "carpet"
           }
          ],
          "choropleth": [
           {
            "colorbar": {
             "outlinewidth": 0,
             "ticks": ""
            },
            "type": "choropleth"
           }
          ],
          "contour": [
           {
            "colorbar": {
             "outlinewidth": 0,
             "ticks": ""
            },
            "colorscale": [
             [
              0,
              "#0d0887"
             ],
             [
              0.1111111111111111,
              "#46039f"
             ],
             [
              0.2222222222222222,
              "#7201a8"
             ],
             [
              0.3333333333333333,
              "#9c179e"
             ],
             [
              0.4444444444444444,
              "#bd3786"
             ],
             [
              0.5555555555555556,
              "#d8576b"
             ],
             [
              0.6666666666666666,
              "#ed7953"
             ],
             [
              0.7777777777777778,
              "#fb9f3a"
             ],
             [
              0.8888888888888888,
              "#fdca26"
             ],
             [
              1,
              "#f0f921"
             ]
            ],
            "type": "contour"
           }
          ],
          "contourcarpet": [
           {
            "colorbar": {
             "outlinewidth": 0,
             "ticks": ""
            },
            "type": "contourcarpet"
           }
          ],
          "heatmap": [
           {
            "colorbar": {
             "outlinewidth": 0,
             "ticks": ""
            },
            "colorscale": [
             [
              0,
              "#0d0887"
             ],
             [
              0.1111111111111111,
              "#46039f"
             ],
             [
              0.2222222222222222,
              "#7201a8"
             ],
             [
              0.3333333333333333,
              "#9c179e"
             ],
             [
              0.4444444444444444,
              "#bd3786"
             ],
             [
              0.5555555555555556,
              "#d8576b"
             ],
             [
              0.6666666666666666,
              "#ed7953"
             ],
             [
              0.7777777777777778,
              "#fb9f3a"
             ],
             [
              0.8888888888888888,
              "#fdca26"
             ],
             [
              1,
              "#f0f921"
             ]
            ],
            "type": "heatmap"
           }
          ],
          "heatmapgl": [
           {
            "colorbar": {
             "outlinewidth": 0,
             "ticks": ""
            },
            "colorscale": [
             [
              0,
              "#0d0887"
             ],
             [
              0.1111111111111111,
              "#46039f"
             ],
             [
              0.2222222222222222,
              "#7201a8"
             ],
             [
              0.3333333333333333,
              "#9c179e"
             ],
             [
              0.4444444444444444,
              "#bd3786"
             ],
             [
              0.5555555555555556,
              "#d8576b"
             ],
             [
              0.6666666666666666,
              "#ed7953"
             ],
             [
              0.7777777777777778,
              "#fb9f3a"
             ],
             [
              0.8888888888888888,
              "#fdca26"
             ],
             [
              1,
              "#f0f921"
             ]
            ],
            "type": "heatmapgl"
           }
          ],
          "histogram": [
           {
            "marker": {
             "pattern": {
              "fillmode": "overlay",
              "size": 10,
              "solidity": 0.2
             }
            },
            "type": "histogram"
           }
          ],
          "histogram2d": [
           {
            "colorbar": {
             "outlinewidth": 0,
             "ticks": ""
            },
            "colorscale": [
             [
              0,
              "#0d0887"
             ],
             [
              0.1111111111111111,
              "#46039f"
             ],
             [
              0.2222222222222222,
              "#7201a8"
             ],
             [
              0.3333333333333333,
              "#9c179e"
             ],
             [
              0.4444444444444444,
              "#bd3786"
             ],
             [
              0.5555555555555556,
              "#d8576b"
             ],
             [
              0.6666666666666666,
              "#ed7953"
             ],
             [
              0.7777777777777778,
              "#fb9f3a"
             ],
             [
              0.8888888888888888,
              "#fdca26"
             ],
             [
              1,
              "#f0f921"
             ]
            ],
            "type": "histogram2d"
           }
          ],
          "histogram2dcontour": [
           {
            "colorbar": {
             "outlinewidth": 0,
             "ticks": ""
            },
            "colorscale": [
             [
              0,
              "#0d0887"
             ],
             [
              0.1111111111111111,
              "#46039f"
             ],
             [
              0.2222222222222222,
              "#7201a8"
             ],
             [
              0.3333333333333333,
              "#9c179e"
             ],
             [
              0.4444444444444444,
              "#bd3786"
             ],
             [
              0.5555555555555556,
              "#d8576b"
             ],
             [
              0.6666666666666666,
              "#ed7953"
             ],
             [
              0.7777777777777778,
              "#fb9f3a"
             ],
             [
              0.8888888888888888,
              "#fdca26"
             ],
             [
              1,
              "#f0f921"
             ]
            ],
            "type": "histogram2dcontour"
           }
          ],
          "mesh3d": [
           {
            "colorbar": {
             "outlinewidth": 0,
             "ticks": ""
            },
            "type": "mesh3d"
           }
          ],
          "parcoords": [
           {
            "line": {
             "colorbar": {
              "outlinewidth": 0,
              "ticks": ""
             }
            },
            "type": "parcoords"
           }
          ],
          "pie": [
           {
            "automargin": true,
            "type": "pie"
           }
          ],
          "scatter": [
           {
            "fillpattern": {
             "fillmode": "overlay",
             "size": 10,
             "solidity": 0.2
            },
            "type": "scatter"
           }
          ],
          "scatter3d": [
           {
            "line": {
             "colorbar": {
              "outlinewidth": 0,
              "ticks": ""
             }
            },
            "marker": {
             "colorbar": {
              "outlinewidth": 0,
              "ticks": ""
             }
            },
            "type": "scatter3d"
           }
          ],
          "scattercarpet": [
           {
            "marker": {
             "colorbar": {
              "outlinewidth": 0,
              "ticks": ""
             }
            },
            "type": "scattercarpet"
           }
          ],
          "scattergeo": [
           {
            "marker": {
             "colorbar": {
              "outlinewidth": 0,
              "ticks": ""
             }
            },
            "type": "scattergeo"
           }
          ],
          "scattergl": [
           {
            "marker": {
             "colorbar": {
              "outlinewidth": 0,
              "ticks": ""
             }
            },
            "type": "scattergl"
           }
          ],
          "scattermapbox": [
           {
            "marker": {
             "colorbar": {
              "outlinewidth": 0,
              "ticks": ""
             }
            },
            "type": "scattermapbox"
           }
          ],
          "scatterpolar": [
           {
            "marker": {
             "colorbar": {
              "outlinewidth": 0,
              "ticks": ""
             }
            },
            "type": "scatterpolar"
           }
          ],
          "scatterpolargl": [
           {
            "marker": {
             "colorbar": {
              "outlinewidth": 0,
              "ticks": ""
             }
            },
            "type": "scatterpolargl"
           }
          ],
          "scatterternary": [
           {
            "marker": {
             "colorbar": {
              "outlinewidth": 0,
              "ticks": ""
             }
            },
            "type": "scatterternary"
           }
          ],
          "surface": [
           {
            "colorbar": {
             "outlinewidth": 0,
             "ticks": ""
            },
            "colorscale": [
             [
              0,
              "#0d0887"
             ],
             [
              0.1111111111111111,
              "#46039f"
             ],
             [
              0.2222222222222222,
              "#7201a8"
             ],
             [
              0.3333333333333333,
              "#9c179e"
             ],
             [
              0.4444444444444444,
              "#bd3786"
             ],
             [
              0.5555555555555556,
              "#d8576b"
             ],
             [
              0.6666666666666666,
              "#ed7953"
             ],
             [
              0.7777777777777778,
              "#fb9f3a"
             ],
             [
              0.8888888888888888,
              "#fdca26"
             ],
             [
              1,
              "#f0f921"
             ]
            ],
            "type": "surface"
           }
          ],
          "table": [
           {
            "cells": {
             "fill": {
              "color": "#EBF0F8"
             },
             "line": {
              "color": "white"
             }
            },
            "header": {
             "fill": {
              "color": "#C8D4E3"
             },
             "line": {
              "color": "white"
             }
            },
            "type": "table"
           }
          ]
         },
         "layout": {
          "annotationdefaults": {
           "arrowcolor": "#2a3f5f",
           "arrowhead": 0,
           "arrowwidth": 1
          },
          "autotypenumbers": "strict",
          "coloraxis": {
           "colorbar": {
            "outlinewidth": 0,
            "ticks": ""
           }
          },
          "colorscale": {
           "diverging": [
            [
             0,
             "#8e0152"
            ],
            [
             0.1,
             "#c51b7d"
            ],
            [
             0.2,
             "#de77ae"
            ],
            [
             0.3,
             "#f1b6da"
            ],
            [
             0.4,
             "#fde0ef"
            ],
            [
             0.5,
             "#f7f7f7"
            ],
            [
             0.6,
             "#e6f5d0"
            ],
            [
             0.7,
             "#b8e186"
            ],
            [
             0.8,
             "#7fbc41"
            ],
            [
             0.9,
             "#4d9221"
            ],
            [
             1,
             "#276419"
            ]
           ],
           "sequential": [
            [
             0,
             "#0d0887"
            ],
            [
             0.1111111111111111,
             "#46039f"
            ],
            [
             0.2222222222222222,
             "#7201a8"
            ],
            [
             0.3333333333333333,
             "#9c179e"
            ],
            [
             0.4444444444444444,
             "#bd3786"
            ],
            [
             0.5555555555555556,
             "#d8576b"
            ],
            [
             0.6666666666666666,
             "#ed7953"
            ],
            [
             0.7777777777777778,
             "#fb9f3a"
            ],
            [
             0.8888888888888888,
             "#fdca26"
            ],
            [
             1,
             "#f0f921"
            ]
           ],
           "sequentialminus": [
            [
             0,
             "#0d0887"
            ],
            [
             0.1111111111111111,
             "#46039f"
            ],
            [
             0.2222222222222222,
             "#7201a8"
            ],
            [
             0.3333333333333333,
             "#9c179e"
            ],
            [
             0.4444444444444444,
             "#bd3786"
            ],
            [
             0.5555555555555556,
             "#d8576b"
            ],
            [
             0.6666666666666666,
             "#ed7953"
            ],
            [
             0.7777777777777778,
             "#fb9f3a"
            ],
            [
             0.8888888888888888,
             "#fdca26"
            ],
            [
             1,
             "#f0f921"
            ]
           ]
          },
          "colorway": [
           "#636efa",
           "#EF553B",
           "#00cc96",
           "#ab63fa",
           "#FFA15A",
           "#19d3f3",
           "#FF6692",
           "#B6E880",
           "#FF97FF",
           "#FECB52"
          ],
          "font": {
           "color": "#2a3f5f"
          },
          "geo": {
           "bgcolor": "white",
           "lakecolor": "white",
           "landcolor": "#E5ECF6",
           "showlakes": true,
           "showland": true,
           "subunitcolor": "white"
          },
          "hoverlabel": {
           "align": "left"
          },
          "hovermode": "closest",
          "mapbox": {
           "style": "light"
          },
          "paper_bgcolor": "white",
          "plot_bgcolor": "#E5ECF6",
          "polar": {
           "angularaxis": {
            "gridcolor": "white",
            "linecolor": "white",
            "ticks": ""
           },
           "bgcolor": "#E5ECF6",
           "radialaxis": {
            "gridcolor": "white",
            "linecolor": "white",
            "ticks": ""
           }
          },
          "scene": {
           "xaxis": {
            "backgroundcolor": "#E5ECF6",
            "gridcolor": "white",
            "gridwidth": 2,
            "linecolor": "white",
            "showbackground": true,
            "ticks": "",
            "zerolinecolor": "white"
           },
           "yaxis": {
            "backgroundcolor": "#E5ECF6",
            "gridcolor": "white",
            "gridwidth": 2,
            "linecolor": "white",
            "showbackground": true,
            "ticks": "",
            "zerolinecolor": "white"
           },
           "zaxis": {
            "backgroundcolor": "#E5ECF6",
            "gridcolor": "white",
            "gridwidth": 2,
            "linecolor": "white",
            "showbackground": true,
            "ticks": "",
            "zerolinecolor": "white"
           }
          },
          "shapedefaults": {
           "line": {
            "color": "#2a3f5f"
           }
          },
          "ternary": {
           "aaxis": {
            "gridcolor": "white",
            "linecolor": "white",
            "ticks": ""
           },
           "baxis": {
            "gridcolor": "white",
            "linecolor": "white",
            "ticks": ""
           },
           "bgcolor": "#E5ECF6",
           "caxis": {
            "gridcolor": "white",
            "linecolor": "white",
            "ticks": ""
           }
          },
          "title": {
           "x": 0.05
          },
          "xaxis": {
           "automargin": true,
           "gridcolor": "white",
           "linecolor": "white",
           "ticks": "",
           "title": {
            "standoff": 15
           },
           "zerolinecolor": "white",
           "zerolinewidth": 2
          },
          "yaxis": {
           "automargin": true,
           "gridcolor": "white",
           "linecolor": "white",
           "ticks": "",
           "title": {
            "standoff": 15
           },
           "zerolinecolor": "white",
           "zerolinewidth": 2
          }
         }
        },
        "title": {
         "text": "EMA_247540"
        },
        "xaxis": {
         "anchor": "y",
         "domain": [
          0,
          1
         ],
         "title": {
          "text": "DT"
         }
        },
        "yaxis": {
         "anchor": "x",
         "domain": [
          0,
          1
         ],
         "title": {
          "text": "value"
         }
        }
       }
      }
     },
     "metadata": {},
     "output_type": "display_data"
    }
   ],
   "source": [
    "ema_plt"
   ]
  },
  {
   "cell_type": "code",
   "execution_count": 27,
   "metadata": {},
   "outputs": [
    {
     "data": {
      "application/vnd.plotly.v1+json": {
       "config": {
        "plotlyServerURL": "https://plot.ly"
       },
       "data": [
        {
         "hovertemplate": "variable=MACD<br>DT=%{x}<br>value=%{y}<extra></extra>",
         "legendgroup": "MACD",
         "line": {
          "color": "#636efa",
          "dash": "solid"
         },
         "marker": {
          "symbol": "circle"
         },
         "mode": "lines",
         "name": "MACD",
         "orientation": "v",
         "showlegend": true,
         "type": "scatter",
         "x": [
          "2019-03-05T00:00:00",
          "2019-03-06T00:00:00",
          "2019-03-07T00:00:00",
          "2019-03-08T00:00:00",
          "2019-03-11T00:00:00",
          "2019-03-12T00:00:00",
          "2019-03-13T00:00:00",
          "2019-03-14T00:00:00",
          "2019-03-15T00:00:00",
          "2019-03-18T00:00:00",
          "2019-03-19T00:00:00",
          "2019-03-20T00:00:00",
          "2019-03-21T00:00:00",
          "2019-03-22T00:00:00",
          "2019-03-25T00:00:00",
          "2019-03-26T00:00:00",
          "2019-03-27T00:00:00",
          "2019-03-28T00:00:00",
          "2019-03-29T00:00:00",
          "2019-04-01T00:00:00",
          "2019-04-02T00:00:00",
          "2019-04-03T00:00:00",
          "2019-04-04T00:00:00",
          "2019-04-05T00:00:00",
          "2019-04-08T00:00:00",
          "2019-04-09T00:00:00",
          "2019-04-10T00:00:00",
          "2019-04-11T00:00:00",
          "2019-04-12T00:00:00",
          "2019-04-15T00:00:00",
          "2019-04-16T00:00:00",
          "2019-04-17T00:00:00",
          "2019-04-18T00:00:00",
          "2019-04-19T00:00:00",
          "2019-04-22T00:00:00",
          "2019-04-23T00:00:00",
          "2019-04-24T00:00:00",
          "2019-04-25T00:00:00",
          "2019-04-26T00:00:00",
          "2019-04-29T00:00:00",
          "2019-04-30T00:00:00",
          "2019-05-02T00:00:00",
          "2019-05-03T00:00:00",
          "2019-05-07T00:00:00",
          "2019-05-08T00:00:00",
          "2019-05-09T00:00:00",
          "2019-05-10T00:00:00",
          "2019-05-13T00:00:00",
          "2019-05-14T00:00:00",
          "2019-05-15T00:00:00",
          "2019-05-16T00:00:00",
          "2019-05-17T00:00:00",
          "2019-05-20T00:00:00",
          "2019-05-21T00:00:00",
          "2019-05-22T00:00:00",
          "2019-05-23T00:00:00",
          "2019-05-24T00:00:00",
          "2019-05-27T00:00:00",
          "2019-05-28T00:00:00",
          "2019-05-29T00:00:00",
          "2019-05-30T00:00:00",
          "2019-05-31T00:00:00",
          "2019-06-03T00:00:00",
          "2019-06-04T00:00:00",
          "2019-06-05T00:00:00",
          "2019-06-07T00:00:00",
          "2019-06-10T00:00:00",
          "2019-06-11T00:00:00",
          "2019-06-12T00:00:00",
          "2019-06-13T00:00:00",
          "2019-06-14T00:00:00",
          "2019-06-17T00:00:00",
          "2019-06-18T00:00:00",
          "2019-06-19T00:00:00",
          "2019-06-20T00:00:00",
          "2019-06-21T00:00:00",
          "2019-06-24T00:00:00",
          "2019-06-25T00:00:00",
          "2019-06-26T00:00:00",
          "2019-06-27T00:00:00",
          "2019-06-28T00:00:00",
          "2019-07-01T00:00:00",
          "2019-07-02T00:00:00",
          "2019-07-03T00:00:00",
          "2019-07-04T00:00:00",
          "2019-07-05T00:00:00",
          "2019-07-08T00:00:00",
          "2019-07-09T00:00:00",
          "2019-07-10T00:00:00",
          "2019-07-11T00:00:00",
          "2019-07-12T00:00:00",
          "2019-07-15T00:00:00",
          "2019-07-16T00:00:00",
          "2019-07-17T00:00:00",
          "2019-07-18T00:00:00",
          "2019-07-19T00:00:00",
          "2019-07-22T00:00:00",
          "2019-07-23T00:00:00",
          "2019-07-24T00:00:00",
          "2019-07-25T00:00:00",
          "2019-07-26T00:00:00",
          "2019-07-29T00:00:00",
          "2019-07-30T00:00:00",
          "2019-07-31T00:00:00",
          "2019-08-01T00:00:00",
          "2019-08-02T00:00:00",
          "2019-08-05T00:00:00",
          "2019-08-06T00:00:00",
          "2019-08-07T00:00:00",
          "2019-08-08T00:00:00",
          "2019-08-09T00:00:00",
          "2019-08-12T00:00:00",
          "2019-08-13T00:00:00",
          "2019-08-14T00:00:00",
          "2019-08-16T00:00:00",
          "2019-08-19T00:00:00",
          "2019-08-20T00:00:00",
          "2019-08-21T00:00:00",
          "2019-08-22T00:00:00",
          "2019-08-23T00:00:00",
          "2019-08-26T00:00:00",
          "2019-08-27T00:00:00",
          "2019-08-28T00:00:00",
          "2019-08-29T00:00:00",
          "2019-08-30T00:00:00",
          "2019-09-02T00:00:00",
          "2019-09-03T00:00:00",
          "2019-09-04T00:00:00",
          "2019-09-05T00:00:00",
          "2019-09-06T00:00:00",
          "2019-09-09T00:00:00",
          "2019-09-10T00:00:00",
          "2019-09-11T00:00:00",
          "2019-09-16T00:00:00",
          "2019-09-17T00:00:00",
          "2019-09-18T00:00:00",
          "2019-09-19T00:00:00",
          "2019-09-20T00:00:00",
          "2019-09-23T00:00:00",
          "2019-09-24T00:00:00",
          "2019-09-25T00:00:00",
          "2019-09-26T00:00:00",
          "2019-09-27T00:00:00",
          "2019-09-30T00:00:00",
          "2019-10-01T00:00:00",
          "2019-10-02T00:00:00",
          "2019-10-04T00:00:00",
          "2019-10-07T00:00:00",
          "2019-10-08T00:00:00",
          "2019-10-10T00:00:00",
          "2019-10-11T00:00:00",
          "2019-10-14T00:00:00",
          "2019-10-15T00:00:00",
          "2019-10-16T00:00:00",
          "2019-10-17T00:00:00",
          "2019-10-18T00:00:00",
          "2019-10-21T00:00:00",
          "2019-10-22T00:00:00",
          "2019-10-23T00:00:00",
          "2019-10-24T00:00:00",
          "2019-10-25T00:00:00",
          "2019-10-28T00:00:00",
          "2019-10-29T00:00:00",
          "2019-10-30T00:00:00",
          "2019-10-31T00:00:00",
          "2019-11-01T00:00:00",
          "2019-11-04T00:00:00",
          "2019-11-05T00:00:00",
          "2019-11-06T00:00:00",
          "2019-11-07T00:00:00",
          "2019-11-08T00:00:00",
          "2019-11-11T00:00:00",
          "2019-11-12T00:00:00",
          "2019-11-13T00:00:00",
          "2019-11-14T00:00:00",
          "2019-11-15T00:00:00",
          "2019-11-18T00:00:00",
          "2019-11-19T00:00:00",
          "2019-11-20T00:00:00",
          "2019-11-21T00:00:00",
          "2019-11-22T00:00:00",
          "2019-11-25T00:00:00",
          "2019-11-26T00:00:00",
          "2019-11-27T00:00:00",
          "2019-11-28T00:00:00",
          "2019-11-29T00:00:00",
          "2019-12-02T00:00:00",
          "2019-12-03T00:00:00",
          "2019-12-04T00:00:00",
          "2019-12-05T00:00:00",
          "2019-12-06T00:00:00",
          "2019-12-09T00:00:00",
          "2019-12-10T00:00:00",
          "2019-12-11T00:00:00",
          "2019-12-12T00:00:00",
          "2019-12-13T00:00:00",
          "2019-12-16T00:00:00",
          "2019-12-17T00:00:00",
          "2019-12-18T00:00:00",
          "2019-12-19T00:00:00",
          "2019-12-20T00:00:00",
          "2019-12-23T00:00:00",
          "2019-12-24T00:00:00",
          "2019-12-26T00:00:00",
          "2019-12-27T00:00:00",
          "2019-12-30T00:00:00",
          "2020-01-02T00:00:00",
          "2020-01-03T00:00:00",
          "2020-01-06T00:00:00",
          "2020-01-07T00:00:00",
          "2020-01-08T00:00:00",
          "2020-01-09T00:00:00",
          "2020-01-10T00:00:00",
          "2020-01-13T00:00:00",
          "2020-01-14T00:00:00",
          "2020-01-15T00:00:00",
          "2020-01-16T00:00:00",
          "2020-01-17T00:00:00",
          "2020-01-20T00:00:00",
          "2020-01-21T00:00:00",
          "2020-01-22T00:00:00",
          "2020-01-23T00:00:00",
          "2020-01-28T00:00:00",
          "2020-01-29T00:00:00",
          "2020-01-30T00:00:00",
          "2020-01-31T00:00:00",
          "2020-02-03T00:00:00",
          "2020-02-04T00:00:00",
          "2020-02-05T00:00:00",
          "2020-02-06T00:00:00",
          "2020-02-07T00:00:00",
          "2020-02-10T00:00:00",
          "2020-02-11T00:00:00",
          "2020-02-12T00:00:00",
          "2020-02-13T00:00:00",
          "2020-02-14T00:00:00",
          "2020-02-17T00:00:00",
          "2020-02-18T00:00:00",
          "2020-02-19T00:00:00",
          "2020-02-20T00:00:00",
          "2020-02-21T00:00:00",
          "2020-02-24T00:00:00",
          "2020-02-25T00:00:00",
          "2020-02-26T00:00:00",
          "2020-02-27T00:00:00",
          "2020-02-28T00:00:00",
          "2020-03-02T00:00:00",
          "2020-03-03T00:00:00",
          "2020-03-04T00:00:00",
          "2020-03-05T00:00:00",
          "2020-03-06T00:00:00",
          "2020-03-09T00:00:00",
          "2020-03-10T00:00:00",
          "2020-03-11T00:00:00",
          "2020-03-12T00:00:00",
          "2020-03-13T00:00:00",
          "2020-03-16T00:00:00",
          "2020-03-17T00:00:00",
          "2020-03-18T00:00:00",
          "2020-03-19T00:00:00"
         ],
         "xaxis": "x",
         "y": [
          0,
          58.11320754716871,
          94.55192003909906,
          109.35146880548564,
          104.37880778311228,
          62.557026943570236,
          9.827024764206726,
          54.20329780913016,
          52.861514409509255,
          34.09739695681492,
          133.49837924721942,
          181.8189041785954,
          257.3028878785408,
          243.46850050569628,
          170.1652269831975,
          131.0672022752551,
          153.451724031067,
          -31.072340701604844,
          -225.95949022438435,
          -395.89183250334463,
          -585.0287576869305,
          -693.1380268461799,
          -789.1171113038436,
          -905.4601901029673,
          -892.5378577555384,
          -841.1335575211488,
          -753.1709501676596,
          -650.7629121092687,
          -589.05041681273,
          -596.1645005099053,
          -639.8007510615935,
          -663.7702971742256,
          -682.7029100578293,
          -687.8638468620193,
          -652.6228384405331,
          -638.6223952619621,
          -662.6347829122533,
          -681.7646541828071,
          -732.2000912978983,
          -751.6168766919654,
          -776.3532654887531,
          -726.3507952434229,
          -640.0267971741414,
          -592.0202969118036,
          -584.9421233078756,
          -736.5145384352072,
          -854.7885831499589,
          -1039.362876431478,
          -1254.9582849261933,
          -1303.3927743343738,
          -1366.8936149612855,
          -1496.2663404621417,
          -1684.0220831530678,
          -1863.2328463064841,
          -1963.4086586289632,
          -2010.8544308182027,
          -2025.598923963953,
          -1942.8943321286206,
          -1856.6645479564904,
          -1778.3947391185575,
          -1583.8126110228695,
          -1501.3817853972723,
          -1343.3585193559338,
          -1107.416201015294,
          -872.6594914630041,
          -591.5389481965685,
          -384.66540761433134,
          -173.85908057283814,
          -12.217763499909779,
          142.5704174433049,
          219.7621011451556,
          246.4320361251157,
          141.59388533467427,
          -31.058497710146185,
          -157.91183371601073,
          -270.1498197800029,
          -388.0386518075393,
          -442.2909335267468,
          -515.8549727356294,
          -556.8690135988145,
          -576.4437470443881,
          -584.5372225741812,
          -647.5004970701921,
          -647.8962262762288,
          -631.028614817209,
          -621.9264899984992,
          -750.7152454576426,
          -874.5830934433106,
          -955.1265269409778,
          -923.4542226665726,
          -737.8476115666417,
          -566.9167110148992,
          -421.14774074634624,
          -212.73859031799657,
          -81.32888722704956,
          12.347735583192843,
          37.154300057998626,
          -89.01363343357662,
          -189.18854036709672,
          -324.52916819341044,
          -451.70282438518916,
          -665.1070608356895,
          -786.353926730284,
          -825.3008651294294,
          -908.5012824518926,
          -991.6189899376914,
          -1266.6907268814466,
          -1568.4125019899584,
          -1767.2912622410295,
          -1836.8193544784008,
          -1905.1729483245363,
          -1972.2943380007928,
          -2093.2494211175217,
          -2108.134949994994,
          -2162.6363989028396,
          -2189.140045127031,
          -2005.3107735085941,
          -1828.3051308316644,
          -1642.0774346408143,
          -1456.0720952076663,
          -1401.1449207197802,
          -1340.423741342398,
          -1167.9929329326915,
          -1007.4428393168782,
          -857.9093303035042,
          -793.7716641225707,
          -738.4571308834129,
          -722.8165802552467,
          -698.9329910084707,
          -723.245694654659,
          -841.8500229900746,
          -913.1667484572026,
          -985.8463747106434,
          -1007.9873834741011,
          -1100.1466085472348,
          -1190.8276221402994,
          -1260.1009257150654,
          -1290.3050157615216,
          -1345.2270358066307,
          -1390.2107937238106,
          -1547.3333559960884,
          -1724.2816862818945,
          -1832.960826049668,
          -1928.310451885649,
          -1985.7160238085416,
          -2092.6736241428225,
          -2225.496774113424,
          -2422.67307791458,
          -2525.441924929677,
          -2522.1270034481277,
          -2519.94466793193,
          -2443.219804517881,
          -2391.9203547405123,
          -2311.661949313988,
          -2279.4803028598544,
          -2232.44353575023,
          -2257.8776236703998,
          -2270.07186115731,
          -2300.308168433032,
          -2239.0440335355233,
          -2223.9780377737843,
          -2043.0418391666753,
          -1920.1770294056623,
          -1785.587983381265,
          -1668.8286324983565,
          -1572.2325888700652,
          -1481.889926236181,
          -1397.3632256351702,
          -1306.3001591964567,
          -1265.4414737057596,
          -1217.551479295922,
          -1159.5645294693604,
          -1156.4982995862592,
          -1186.327960545008,
          -1199.5037377863118,
          -1130.114007576849,
          -1041.3107225469212,
          -943.4712882281456,
          -833.8935863548686,
          -797.866804429832,
          -663.95464220328,
          -535.0608088620647,
          -434.90402634816564,
          -340.6519354600896,
          -347.5608049841612,
          -394.5572683403079,
          -409.30235168897343,
          -421.24283664650284,
          -528.3046826126956,
          -615.986553649258,
          -660.2837653312381,
          -645.9601250463675,
          -679.2202900110206,
          -702.8634019396995,
          -711.9112300470006,
          -697.9936829791477,
          -709.5455595784588,
          -705.8327510294257,
          -742.3804963179064,
          -764.7788389427587,
          -784.502817470071,
          -795.8132424499272,
          -807.5864027388816,
          -736.0119820499021,
          -630.4235192985361,
          -482.93950116850465,
          -350.46686404466163,
          -299.49680530664773,
          -253.33685612329282,
          -171.71141402683133,
          -190.37458973970206,
          12.883286412761663,
          241.36890451157524,
          423.8420158034496,
          612.7450331984801,
          719.0998053969743,
          819.5636420184237,
          862.6659655060721,
          970.2990080832751,
          1019.3437159661044,
          1095.9242598488345,
          1208.7264525978608,
          1221.8077533830292,
          1225.9667358786173,
          1222.1829006201224,
          1131.5921013967163,
          1490.4998506762931,
          1849.149368874474,
          2214.523725001076,
          2676.558483552486,
          3302.9579903225604,
          3946.0593718129603,
          4889.314192653292,
          5729.784762111347,
          6520.366086514507,
          7164.64679892399,
          7629.189400574207,
          7980.498669157954,
          8289.97742893883,
          8772.765058900834,
          8945.600541856242,
          9049.816444993863,
          9284.174700874311,
          9390.265704611942,
          9346.144695333744,
          9144.697733015622,
          9079.169852636449,
          8995.056043589371,
          8978.415298152613,
          8878.219151899699,
          8692.07191034875,
          8258.555698759199,
          8037.131210092179,
          7665.854231908714,
          7302.025067273338,
          6957.817816692579,
          6328.916279286743,
          5763.826768322411,
          4941.9859450972,
          3842.4134183475253
         ],
         "yaxis": "y"
        },
        {
         "hovertemplate": "variable=signal<br>DT=%{x}<br>value=%{y}<extra></extra>",
         "legendgroup": "signal",
         "line": {
          "color": "#EF553B",
          "dash": "solid"
         },
         "marker": {
          "symbol": "circle"
         },
         "mode": "lines",
         "name": "signal",
         "orientation": "v",
         "showlegend": true,
         "type": "scatter",
         "x": [
          "2019-03-05T00:00:00",
          "2019-03-06T00:00:00",
          "2019-03-07T00:00:00",
          "2019-03-08T00:00:00",
          "2019-03-11T00:00:00",
          "2019-03-12T00:00:00",
          "2019-03-13T00:00:00",
          "2019-03-14T00:00:00",
          "2019-03-15T00:00:00",
          "2019-03-18T00:00:00",
          "2019-03-19T00:00:00",
          "2019-03-20T00:00:00",
          "2019-03-21T00:00:00",
          "2019-03-22T00:00:00",
          "2019-03-25T00:00:00",
          "2019-03-26T00:00:00",
          "2019-03-27T00:00:00",
          "2019-03-28T00:00:00",
          "2019-03-29T00:00:00",
          "2019-04-01T00:00:00",
          "2019-04-02T00:00:00",
          "2019-04-03T00:00:00",
          "2019-04-04T00:00:00",
          "2019-04-05T00:00:00",
          "2019-04-08T00:00:00",
          "2019-04-09T00:00:00",
          "2019-04-10T00:00:00",
          "2019-04-11T00:00:00",
          "2019-04-12T00:00:00",
          "2019-04-15T00:00:00",
          "2019-04-16T00:00:00",
          "2019-04-17T00:00:00",
          "2019-04-18T00:00:00",
          "2019-04-19T00:00:00",
          "2019-04-22T00:00:00",
          "2019-04-23T00:00:00",
          "2019-04-24T00:00:00",
          "2019-04-25T00:00:00",
          "2019-04-26T00:00:00",
          "2019-04-29T00:00:00",
          "2019-04-30T00:00:00",
          "2019-05-02T00:00:00",
          "2019-05-03T00:00:00",
          "2019-05-07T00:00:00",
          "2019-05-08T00:00:00",
          "2019-05-09T00:00:00",
          "2019-05-10T00:00:00",
          "2019-05-13T00:00:00",
          "2019-05-14T00:00:00",
          "2019-05-15T00:00:00",
          "2019-05-16T00:00:00",
          "2019-05-17T00:00:00",
          "2019-05-20T00:00:00",
          "2019-05-21T00:00:00",
          "2019-05-22T00:00:00",
          "2019-05-23T00:00:00",
          "2019-05-24T00:00:00",
          "2019-05-27T00:00:00",
          "2019-05-28T00:00:00",
          "2019-05-29T00:00:00",
          "2019-05-30T00:00:00",
          "2019-05-31T00:00:00",
          "2019-06-03T00:00:00",
          "2019-06-04T00:00:00",
          "2019-06-05T00:00:00",
          "2019-06-07T00:00:00",
          "2019-06-10T00:00:00",
          "2019-06-11T00:00:00",
          "2019-06-12T00:00:00",
          "2019-06-13T00:00:00",
          "2019-06-14T00:00:00",
          "2019-06-17T00:00:00",
          "2019-06-18T00:00:00",
          "2019-06-19T00:00:00",
          "2019-06-20T00:00:00",
          "2019-06-21T00:00:00",
          "2019-06-24T00:00:00",
          "2019-06-25T00:00:00",
          "2019-06-26T00:00:00",
          "2019-06-27T00:00:00",
          "2019-06-28T00:00:00",
          "2019-07-01T00:00:00",
          "2019-07-02T00:00:00",
          "2019-07-03T00:00:00",
          "2019-07-04T00:00:00",
          "2019-07-05T00:00:00",
          "2019-07-08T00:00:00",
          "2019-07-09T00:00:00",
          "2019-07-10T00:00:00",
          "2019-07-11T00:00:00",
          "2019-07-12T00:00:00",
          "2019-07-15T00:00:00",
          "2019-07-16T00:00:00",
          "2019-07-17T00:00:00",
          "2019-07-18T00:00:00",
          "2019-07-19T00:00:00",
          "2019-07-22T00:00:00",
          "2019-07-23T00:00:00",
          "2019-07-24T00:00:00",
          "2019-07-25T00:00:00",
          "2019-07-26T00:00:00",
          "2019-07-29T00:00:00",
          "2019-07-30T00:00:00",
          "2019-07-31T00:00:00",
          "2019-08-01T00:00:00",
          "2019-08-02T00:00:00",
          "2019-08-05T00:00:00",
          "2019-08-06T00:00:00",
          "2019-08-07T00:00:00",
          "2019-08-08T00:00:00",
          "2019-08-09T00:00:00",
          "2019-08-12T00:00:00",
          "2019-08-13T00:00:00",
          "2019-08-14T00:00:00",
          "2019-08-16T00:00:00",
          "2019-08-19T00:00:00",
          "2019-08-20T00:00:00",
          "2019-08-21T00:00:00",
          "2019-08-22T00:00:00",
          "2019-08-23T00:00:00",
          "2019-08-26T00:00:00",
          "2019-08-27T00:00:00",
          "2019-08-28T00:00:00",
          "2019-08-29T00:00:00",
          "2019-08-30T00:00:00",
          "2019-09-02T00:00:00",
          "2019-09-03T00:00:00",
          "2019-09-04T00:00:00",
          "2019-09-05T00:00:00",
          "2019-09-06T00:00:00",
          "2019-09-09T00:00:00",
          "2019-09-10T00:00:00",
          "2019-09-11T00:00:00",
          "2019-09-16T00:00:00",
          "2019-09-17T00:00:00",
          "2019-09-18T00:00:00",
          "2019-09-19T00:00:00",
          "2019-09-20T00:00:00",
          "2019-09-23T00:00:00",
          "2019-09-24T00:00:00",
          "2019-09-25T00:00:00",
          "2019-09-26T00:00:00",
          "2019-09-27T00:00:00",
          "2019-09-30T00:00:00",
          "2019-10-01T00:00:00",
          "2019-10-02T00:00:00",
          "2019-10-04T00:00:00",
          "2019-10-07T00:00:00",
          "2019-10-08T00:00:00",
          "2019-10-10T00:00:00",
          "2019-10-11T00:00:00",
          "2019-10-14T00:00:00",
          "2019-10-15T00:00:00",
          "2019-10-16T00:00:00",
          "2019-10-17T00:00:00",
          "2019-10-18T00:00:00",
          "2019-10-21T00:00:00",
          "2019-10-22T00:00:00",
          "2019-10-23T00:00:00",
          "2019-10-24T00:00:00",
          "2019-10-25T00:00:00",
          "2019-10-28T00:00:00",
          "2019-10-29T00:00:00",
          "2019-10-30T00:00:00",
          "2019-10-31T00:00:00",
          "2019-11-01T00:00:00",
          "2019-11-04T00:00:00",
          "2019-11-05T00:00:00",
          "2019-11-06T00:00:00",
          "2019-11-07T00:00:00",
          "2019-11-08T00:00:00",
          "2019-11-11T00:00:00",
          "2019-11-12T00:00:00",
          "2019-11-13T00:00:00",
          "2019-11-14T00:00:00",
          "2019-11-15T00:00:00",
          "2019-11-18T00:00:00",
          "2019-11-19T00:00:00",
          "2019-11-20T00:00:00",
          "2019-11-21T00:00:00",
          "2019-11-22T00:00:00",
          "2019-11-25T00:00:00",
          "2019-11-26T00:00:00",
          "2019-11-27T00:00:00",
          "2019-11-28T00:00:00",
          "2019-11-29T00:00:00",
          "2019-12-02T00:00:00",
          "2019-12-03T00:00:00",
          "2019-12-04T00:00:00",
          "2019-12-05T00:00:00",
          "2019-12-06T00:00:00",
          "2019-12-09T00:00:00",
          "2019-12-10T00:00:00",
          "2019-12-11T00:00:00",
          "2019-12-12T00:00:00",
          "2019-12-13T00:00:00",
          "2019-12-16T00:00:00",
          "2019-12-17T00:00:00",
          "2019-12-18T00:00:00",
          "2019-12-19T00:00:00",
          "2019-12-20T00:00:00",
          "2019-12-23T00:00:00",
          "2019-12-24T00:00:00",
          "2019-12-26T00:00:00",
          "2019-12-27T00:00:00",
          "2019-12-30T00:00:00",
          "2020-01-02T00:00:00",
          "2020-01-03T00:00:00",
          "2020-01-06T00:00:00",
          "2020-01-07T00:00:00",
          "2020-01-08T00:00:00",
          "2020-01-09T00:00:00",
          "2020-01-10T00:00:00",
          "2020-01-13T00:00:00",
          "2020-01-14T00:00:00",
          "2020-01-15T00:00:00",
          "2020-01-16T00:00:00",
          "2020-01-17T00:00:00",
          "2020-01-20T00:00:00",
          "2020-01-21T00:00:00",
          "2020-01-22T00:00:00",
          "2020-01-23T00:00:00",
          "2020-01-28T00:00:00",
          "2020-01-29T00:00:00",
          "2020-01-30T00:00:00",
          "2020-01-31T00:00:00",
          "2020-02-03T00:00:00",
          "2020-02-04T00:00:00",
          "2020-02-05T00:00:00",
          "2020-02-06T00:00:00",
          "2020-02-07T00:00:00",
          "2020-02-10T00:00:00",
          "2020-02-11T00:00:00",
          "2020-02-12T00:00:00",
          "2020-02-13T00:00:00",
          "2020-02-14T00:00:00",
          "2020-02-17T00:00:00",
          "2020-02-18T00:00:00",
          "2020-02-19T00:00:00",
          "2020-02-20T00:00:00",
          "2020-02-21T00:00:00",
          "2020-02-24T00:00:00",
          "2020-02-25T00:00:00",
          "2020-02-26T00:00:00",
          "2020-02-27T00:00:00",
          "2020-02-28T00:00:00",
          "2020-03-02T00:00:00",
          "2020-03-03T00:00:00",
          "2020-03-04T00:00:00",
          "2020-03-05T00:00:00",
          "2020-03-06T00:00:00",
          "2020-03-09T00:00:00",
          "2020-03-10T00:00:00",
          "2020-03-11T00:00:00",
          "2020-03-12T00:00:00",
          "2020-03-13T00:00:00",
          "2020-03-16T00:00:00",
          "2020-03-17T00:00:00",
          "2020-03-18T00:00:00",
          "2020-03-19T00:00:00"
         ],
         "xaxis": "x",
         "y": [
          0,
          30.585898709036165,
          54.18959661680846,
          70.22968739572012,
          78.56870729447525,
          75.15148975070701,
          62.630102588832706,
          61.15050300691881,
          59.79737440098842,
          55.85155423681032,
          67.1672091519062,
          83.14497034129961,
          106.49637613911472,
          124.2565457076057,
          130.03770281729606,
          130.16406859723213,
          132.95893990726097,
          113.6589934166083,
          74.39287465495607,
          20.855510283213164,
          -47.176960718980105,
          -118.82916823566543,
          -192.3764089782065,
          -269.86584367226527,
          -336.9489260664907,
          -390.8499804765469,
          -429.31904333354606,
          -452.68635282223033,
          -466.99679968570086,
          -480.4853657051578,
          -497.04883440158864,
          -514.3138051872995,
          -531.689685176183,
          -547.7538925574303,
          -558.5100299920601,
          -566.7059064996339,
          -576.4973205397407,
          -587.2197162193461,
          -601.9598336723298,
          -617.1500629754767,
          -633.2850232905174,
          -642.7043738028265,
          -642.433699553555,
          -637.3429909345325,
          -632.0567661949268,
          -642.5852463913786,
          -663.9566685523926,
          -701.7376780191869,
          -757.3783604539437,
          -812.2626632007543,
          -867.9842171035231,
          -931.0758089436558,
          -1006.6543928227796,
          -1092.602863635335,
          -1179.9492602941016,
          -1263.267981278511,
          -1339.6894571372509,
          -1400.144065072359,
          -1445.887448172532,
          -1479.1980367378826,
          -1489.676440986707,
          -1490.8486817159817,
          -1476.080318621444,
          -1439.1703893729698,
          -1382.45912231441,
          -1303.2914994308294,
          -1211.3498660055845,
          -1107.5204698165169,
          -997.9138912372978,
          -883.7939552425953,
          -773.3760826606753,
          -671.3434863023283,
          -590.0125991488447,
          -534.0942010456417,
          -496.46204084673803,
          -473.82328026740765,
          -465.2422457654169,
          -462.9464953280559,
          -468.23862773101706,
          -477.1036030888603,
          -487.0395711645094,
          -496.7910619716642,
          -511.86440618155933,
          -525.4695383659085,
          -536.0268079728013,
          -544.6177736406687,
          -565.2296746769053,
          -596.1679261757092,
          -632.0668247887851,
          -661.207784457591,
          -668.872292644213,
          -658.6761053392893,
          -634.9219497336608,
          -592.7015036159685,
          -541.5619416192295,
          -486.1687313732244,
          -433.8345214127821,
          -399.3513018462815,
          -378.3344054337308,
          -372.95373879166584,
          -380.8288356072472,
          -409.25726976026465,
          -446.96766565345905,
          -484.8016449313087,
          -527.1722732344886,
          -573.6176005185207,
          -642.925793662369,
          -735.475522691263,
          -838.658158439945,
          -938.4752024880778,
          -1035.1457828450257,
          -1128.8613413888174,
          -1225.3008004776354,
          -1313.5847518776288,
          -1398.4903809083596,
          -1477.5557364804854,
          -1530.3314739635982,
          -1560.1289584447359,
          -1568.3238354679813,
          -1557.0986251929844,
          -1541.5032094203732,
          -1521.3952100162974,
          -1486.0548991125918,
          -1438.1935917288706,
          -1380.165054935345,
          -1321.5256152197744,
          -1263.2186767288351,
          -1209.1783919609127,
          -1158.1537880300075,
          -1114.6629297231377,
          -1087.3816114037177,
          -1069.960109220056,
          -1061.548728864793,
          -1056.1925903688877,
          -1060.587995109109,
          -1073.611965605587,
          -1092.2608716598515,
          -1112.0652956690744,
          -1135.3814798538917,
          -1160.86442124551,
          -1199.5113283760982,
          -1251.9883808547347,
          -1310.085642002017,
          -1371.9081389149571,
          -1433.288941634038,
          -1499.2274236426003,
          -1571.854372327557,
          -1656.9362572652533,
          -1743.7868372418118,
          -1821.6208645172583,
          -1891.4532534622388,
          -1946.6299146859071,
          -1991.1589631350946,
          -2023.2092646315657,
          -2048.8363705259117,
          -2067.197088384081,
          -2086.2651431611894,
          -2104.6458160439247,
          -2124.212052320522,
          -2135.695250990128,
          -2144.523530047739,
          -2134.375360567282,
          -2112.955526705796,
          -2080.218771348146,
          -2039.079756303675,
          -1992.3950383760969,
          -1941.3445259966404,
          -1886.9463948427926,
          -1828.8817702044278,
          -1772.537739616838,
          -1717.0391127534588,
          -1661.2916536735358,
          -1610.8123176523623,
          -1568.3638814781177,
          -1531.4778667464432,
          -1491.3414804744907,
          -1446.3384043235,
          -1396.0516923537014,
          -1339.8358813913517,
          -1285.6389733806957,
          -1223.4705399382676,
          -1154.6295665070659,
          -1082.6570121867046,
          -1008.4565042315365,
          -942.366934080336,
          -887.5859673373916,
          -839.7576056397997,
          -797.9061286359253,
          -770.9459839729906,
          -755.4500409092632,
          -745.9334133341306,
          -735.9360844889693,
          -730.2645050328086,
          -727.5243947198602,
          -725.9630782507088,
          -723.1661387205451,
          -721.8040808050183,
          -720.2069478260679,
          -722.4243026769899,
          -726.6597563065549,
          -732.4440624265793,
          -738.7809804325353,
          -745.6615226667087,
          -744.6965686045813,
          -733.2692636692163,
          -708.2362874097594,
          -672.459345061177,
          -635.1630910743974,
          -596.9804675688506,
          -554.4535622041873,
          -518.0456649496782,
          -464.95276980285513,
          -394.32060235874553,
          -312.5043405293211,
          -219.97940314310105,
          -126.07148227681677,
          -31.507969836166506,
          57.90942370752601,
          149.14838215379632,
          236.16791554249107,
          322.1435499797624,
          410.8018402477319,
          491.90243156633267,
          565.3088620016921,
          630.996265866862,
          681.0558494221293,
          762.0002495508664,
          870.7151614872413,
          1005.0960178430903,
          1172.2422644190287,
          1385.313837015117,
          1641.3883905011046,
          1966.1809707234045,
          2342.5413498695834,
          2760.3238235414537,
          3200.7561210867075,
          3643.599449041792,
          4077.2893710589915,
          4498.558176851857,
          4925.978865061212,
          5327.9410327444875,
          5700.128573972569,
          6058.533186665468,
          6391.7064384623945,
          6687.150264151349,
          6932.905011039137,
          7147.531495199939,
          7332.283950039711,
          7496.8970848516665,
          7635.029291556973,
          7740.733553436497,
          7792.51576796892,
          7816.9773121813105,
          7801.865004154015,
          7751.88101046584,
          7672.47469108836,
          7538.118849907964,
          7360.689641749132,
          7118.819272083598,
          6791.178686709575
         ],
         "yaxis": "y"
        }
       ],
       "layout": {
        "height": 500,
        "legend": {
         "title": {
          "text": "variable"
         },
         "tracegroupgap": 0
        },
        "shapes": [
         {
          "type": "line",
          "x0": 0,
          "x1": 1,
          "xref": "x domain",
          "y0": 0,
          "y1": 0,
          "yref": "y"
         }
        ],
        "template": {
         "data": {
          "bar": [
           {
            "error_x": {
             "color": "#2a3f5f"
            },
            "error_y": {
             "color": "#2a3f5f"
            },
            "marker": {
             "line": {
              "color": "#E5ECF6",
              "width": 0.5
             },
             "pattern": {
              "fillmode": "overlay",
              "size": 10,
              "solidity": 0.2
             }
            },
            "type": "bar"
           }
          ],
          "barpolar": [
           {
            "marker": {
             "line": {
              "color": "#E5ECF6",
              "width": 0.5
             },
             "pattern": {
              "fillmode": "overlay",
              "size": 10,
              "solidity": 0.2
             }
            },
            "type": "barpolar"
           }
          ],
          "carpet": [
           {
            "aaxis": {
             "endlinecolor": "#2a3f5f",
             "gridcolor": "white",
             "linecolor": "white",
             "minorgridcolor": "white",
             "startlinecolor": "#2a3f5f"
            },
            "baxis": {
             "endlinecolor": "#2a3f5f",
             "gridcolor": "white",
             "linecolor": "white",
             "minorgridcolor": "white",
             "startlinecolor": "#2a3f5f"
            },
            "type": "carpet"
           }
          ],
          "choropleth": [
           {
            "colorbar": {
             "outlinewidth": 0,
             "ticks": ""
            },
            "type": "choropleth"
           }
          ],
          "contour": [
           {
            "colorbar": {
             "outlinewidth": 0,
             "ticks": ""
            },
            "colorscale": [
             [
              0,
              "#0d0887"
             ],
             [
              0.1111111111111111,
              "#46039f"
             ],
             [
              0.2222222222222222,
              "#7201a8"
             ],
             [
              0.3333333333333333,
              "#9c179e"
             ],
             [
              0.4444444444444444,
              "#bd3786"
             ],
             [
              0.5555555555555556,
              "#d8576b"
             ],
             [
              0.6666666666666666,
              "#ed7953"
             ],
             [
              0.7777777777777778,
              "#fb9f3a"
             ],
             [
              0.8888888888888888,
              "#fdca26"
             ],
             [
              1,
              "#f0f921"
             ]
            ],
            "type": "contour"
           }
          ],
          "contourcarpet": [
           {
            "colorbar": {
             "outlinewidth": 0,
             "ticks": ""
            },
            "type": "contourcarpet"
           }
          ],
          "heatmap": [
           {
            "colorbar": {
             "outlinewidth": 0,
             "ticks": ""
            },
            "colorscale": [
             [
              0,
              "#0d0887"
             ],
             [
              0.1111111111111111,
              "#46039f"
             ],
             [
              0.2222222222222222,
              "#7201a8"
             ],
             [
              0.3333333333333333,
              "#9c179e"
             ],
             [
              0.4444444444444444,
              "#bd3786"
             ],
             [
              0.5555555555555556,
              "#d8576b"
             ],
             [
              0.6666666666666666,
              "#ed7953"
             ],
             [
              0.7777777777777778,
              "#fb9f3a"
             ],
             [
              0.8888888888888888,
              "#fdca26"
             ],
             [
              1,
              "#f0f921"
             ]
            ],
            "type": "heatmap"
           }
          ],
          "heatmapgl": [
           {
            "colorbar": {
             "outlinewidth": 0,
             "ticks": ""
            },
            "colorscale": [
             [
              0,
              "#0d0887"
             ],
             [
              0.1111111111111111,
              "#46039f"
             ],
             [
              0.2222222222222222,
              "#7201a8"
             ],
             [
              0.3333333333333333,
              "#9c179e"
             ],
             [
              0.4444444444444444,
              "#bd3786"
             ],
             [
              0.5555555555555556,
              "#d8576b"
             ],
             [
              0.6666666666666666,
              "#ed7953"
             ],
             [
              0.7777777777777778,
              "#fb9f3a"
             ],
             [
              0.8888888888888888,
              "#fdca26"
             ],
             [
              1,
              "#f0f921"
             ]
            ],
            "type": "heatmapgl"
           }
          ],
          "histogram": [
           {
            "marker": {
             "pattern": {
              "fillmode": "overlay",
              "size": 10,
              "solidity": 0.2
             }
            },
            "type": "histogram"
           }
          ],
          "histogram2d": [
           {
            "colorbar": {
             "outlinewidth": 0,
             "ticks": ""
            },
            "colorscale": [
             [
              0,
              "#0d0887"
             ],
             [
              0.1111111111111111,
              "#46039f"
             ],
             [
              0.2222222222222222,
              "#7201a8"
             ],
             [
              0.3333333333333333,
              "#9c179e"
             ],
             [
              0.4444444444444444,
              "#bd3786"
             ],
             [
              0.5555555555555556,
              "#d8576b"
             ],
             [
              0.6666666666666666,
              "#ed7953"
             ],
             [
              0.7777777777777778,
              "#fb9f3a"
             ],
             [
              0.8888888888888888,
              "#fdca26"
             ],
             [
              1,
              "#f0f921"
             ]
            ],
            "type": "histogram2d"
           }
          ],
          "histogram2dcontour": [
           {
            "colorbar": {
             "outlinewidth": 0,
             "ticks": ""
            },
            "colorscale": [
             [
              0,
              "#0d0887"
             ],
             [
              0.1111111111111111,
              "#46039f"
             ],
             [
              0.2222222222222222,
              "#7201a8"
             ],
             [
              0.3333333333333333,
              "#9c179e"
             ],
             [
              0.4444444444444444,
              "#bd3786"
             ],
             [
              0.5555555555555556,
              "#d8576b"
             ],
             [
              0.6666666666666666,
              "#ed7953"
             ],
             [
              0.7777777777777778,
              "#fb9f3a"
             ],
             [
              0.8888888888888888,
              "#fdca26"
             ],
             [
              1,
              "#f0f921"
             ]
            ],
            "type": "histogram2dcontour"
           }
          ],
          "mesh3d": [
           {
            "colorbar": {
             "outlinewidth": 0,
             "ticks": ""
            },
            "type": "mesh3d"
           }
          ],
          "parcoords": [
           {
            "line": {
             "colorbar": {
              "outlinewidth": 0,
              "ticks": ""
             }
            },
            "type": "parcoords"
           }
          ],
          "pie": [
           {
            "automargin": true,
            "type": "pie"
           }
          ],
          "scatter": [
           {
            "fillpattern": {
             "fillmode": "overlay",
             "size": 10,
             "solidity": 0.2
            },
            "type": "scatter"
           }
          ],
          "scatter3d": [
           {
            "line": {
             "colorbar": {
              "outlinewidth": 0,
              "ticks": ""
             }
            },
            "marker": {
             "colorbar": {
              "outlinewidth": 0,
              "ticks": ""
             }
            },
            "type": "scatter3d"
           }
          ],
          "scattercarpet": [
           {
            "marker": {
             "colorbar": {
              "outlinewidth": 0,
              "ticks": ""
             }
            },
            "type": "scattercarpet"
           }
          ],
          "scattergeo": [
           {
            "marker": {
             "colorbar": {
              "outlinewidth": 0,
              "ticks": ""
             }
            },
            "type": "scattergeo"
           }
          ],
          "scattergl": [
           {
            "marker": {
             "colorbar": {
              "outlinewidth": 0,
              "ticks": ""
             }
            },
            "type": "scattergl"
           }
          ],
          "scattermapbox": [
           {
            "marker": {
             "colorbar": {
              "outlinewidth": 0,
              "ticks": ""
             }
            },
            "type": "scattermapbox"
           }
          ],
          "scatterpolar": [
           {
            "marker": {
             "colorbar": {
              "outlinewidth": 0,
              "ticks": ""
             }
            },
            "type": "scatterpolar"
           }
          ],
          "scatterpolargl": [
           {
            "marker": {
             "colorbar": {
              "outlinewidth": 0,
              "ticks": ""
             }
            },
            "type": "scatterpolargl"
           }
          ],
          "scatterternary": [
           {
            "marker": {
             "colorbar": {
              "outlinewidth": 0,
              "ticks": ""
             }
            },
            "type": "scatterternary"
           }
          ],
          "surface": [
           {
            "colorbar": {
             "outlinewidth": 0,
             "ticks": ""
            },
            "colorscale": [
             [
              0,
              "#0d0887"
             ],
             [
              0.1111111111111111,
              "#46039f"
             ],
             [
              0.2222222222222222,
              "#7201a8"
             ],
             [
              0.3333333333333333,
              "#9c179e"
             ],
             [
              0.4444444444444444,
              "#bd3786"
             ],
             [
              0.5555555555555556,
              "#d8576b"
             ],
             [
              0.6666666666666666,
              "#ed7953"
             ],
             [
              0.7777777777777778,
              "#fb9f3a"
             ],
             [
              0.8888888888888888,
              "#fdca26"
             ],
             [
              1,
              "#f0f921"
             ]
            ],
            "type": "surface"
           }
          ],
          "table": [
           {
            "cells": {
             "fill": {
              "color": "#EBF0F8"
             },
             "line": {
              "color": "white"
             }
            },
            "header": {
             "fill": {
              "color": "#C8D4E3"
             },
             "line": {
              "color": "white"
             }
            },
            "type": "table"
           }
          ]
         },
         "layout": {
          "annotationdefaults": {
           "arrowcolor": "#2a3f5f",
           "arrowhead": 0,
           "arrowwidth": 1
          },
          "autotypenumbers": "strict",
          "coloraxis": {
           "colorbar": {
            "outlinewidth": 0,
            "ticks": ""
           }
          },
          "colorscale": {
           "diverging": [
            [
             0,
             "#8e0152"
            ],
            [
             0.1,
             "#c51b7d"
            ],
            [
             0.2,
             "#de77ae"
            ],
            [
             0.3,
             "#f1b6da"
            ],
            [
             0.4,
             "#fde0ef"
            ],
            [
             0.5,
             "#f7f7f7"
            ],
            [
             0.6,
             "#e6f5d0"
            ],
            [
             0.7,
             "#b8e186"
            ],
            [
             0.8,
             "#7fbc41"
            ],
            [
             0.9,
             "#4d9221"
            ],
            [
             1,
             "#276419"
            ]
           ],
           "sequential": [
            [
             0,
             "#0d0887"
            ],
            [
             0.1111111111111111,
             "#46039f"
            ],
            [
             0.2222222222222222,
             "#7201a8"
            ],
            [
             0.3333333333333333,
             "#9c179e"
            ],
            [
             0.4444444444444444,
             "#bd3786"
            ],
            [
             0.5555555555555556,
             "#d8576b"
            ],
            [
             0.6666666666666666,
             "#ed7953"
            ],
            [
             0.7777777777777778,
             "#fb9f3a"
            ],
            [
             0.8888888888888888,
             "#fdca26"
            ],
            [
             1,
             "#f0f921"
            ]
           ],
           "sequentialminus": [
            [
             0,
             "#0d0887"
            ],
            [
             0.1111111111111111,
             "#46039f"
            ],
            [
             0.2222222222222222,
             "#7201a8"
            ],
            [
             0.3333333333333333,
             "#9c179e"
            ],
            [
             0.4444444444444444,
             "#bd3786"
            ],
            [
             0.5555555555555556,
             "#d8576b"
            ],
            [
             0.6666666666666666,
             "#ed7953"
            ],
            [
             0.7777777777777778,
             "#fb9f3a"
            ],
            [
             0.8888888888888888,
             "#fdca26"
            ],
            [
             1,
             "#f0f921"
            ]
           ]
          },
          "colorway": [
           "#636efa",
           "#EF553B",
           "#00cc96",
           "#ab63fa",
           "#FFA15A",
           "#19d3f3",
           "#FF6692",
           "#B6E880",
           "#FF97FF",
           "#FECB52"
          ],
          "font": {
           "color": "#2a3f5f"
          },
          "geo": {
           "bgcolor": "white",
           "lakecolor": "white",
           "landcolor": "#E5ECF6",
           "showlakes": true,
           "showland": true,
           "subunitcolor": "white"
          },
          "hoverlabel": {
           "align": "left"
          },
          "hovermode": "closest",
          "mapbox": {
           "style": "light"
          },
          "paper_bgcolor": "white",
          "plot_bgcolor": "#E5ECF6",
          "polar": {
           "angularaxis": {
            "gridcolor": "white",
            "linecolor": "white",
            "ticks": ""
           },
           "bgcolor": "#E5ECF6",
           "radialaxis": {
            "gridcolor": "white",
            "linecolor": "white",
            "ticks": ""
           }
          },
          "scene": {
           "xaxis": {
            "backgroundcolor": "#E5ECF6",
            "gridcolor": "white",
            "gridwidth": 2,
            "linecolor": "white",
            "showbackground": true,
            "ticks": "",
            "zerolinecolor": "white"
           },
           "yaxis": {
            "backgroundcolor": "#E5ECF6",
            "gridcolor": "white",
            "gridwidth": 2,
            "linecolor": "white",
            "showbackground": true,
            "ticks": "",
            "zerolinecolor": "white"
           },
           "zaxis": {
            "backgroundcolor": "#E5ECF6",
            "gridcolor": "white",
            "gridwidth": 2,
            "linecolor": "white",
            "showbackground": true,
            "ticks": "",
            "zerolinecolor": "white"
           }
          },
          "shapedefaults": {
           "line": {
            "color": "#2a3f5f"
           }
          },
          "ternary": {
           "aaxis": {
            "gridcolor": "white",
            "linecolor": "white",
            "ticks": ""
           },
           "baxis": {
            "gridcolor": "white",
            "linecolor": "white",
            "ticks": ""
           },
           "bgcolor": "#E5ECF6",
           "caxis": {
            "gridcolor": "white",
            "linecolor": "white",
            "ticks": ""
           }
          },
          "title": {
           "x": 0.05
          },
          "xaxis": {
           "automargin": true,
           "gridcolor": "white",
           "linecolor": "white",
           "ticks": "",
           "title": {
            "standoff": 15
           },
           "zerolinecolor": "white",
           "zerolinewidth": 2
          },
          "yaxis": {
           "automargin": true,
           "gridcolor": "white",
           "linecolor": "white",
           "ticks": "",
           "title": {
            "standoff": 15
           },
           "zerolinecolor": "white",
           "zerolinewidth": 2
          }
         }
        },
        "title": {
         "text": "MACD_247540"
        },
        "xaxis": {
         "anchor": "y",
         "domain": [
          0,
          1
         ],
         "title": {
          "text": "DT"
         }
        },
        "yaxis": {
         "anchor": "x",
         "domain": [
          0,
          1
         ],
         "title": {
          "text": "value"
         }
        }
       }
      }
     },
     "metadata": {},
     "output_type": "display_data"
    }
   ],
   "source": [
    "macd_plt"
   ]
  },
  {
   "cell_type": "code",
   "execution_count": 28,
   "metadata": {},
   "outputs": [
    {
     "data": {
      "application/vnd.plotly.v1+json": {
       "config": {
        "plotlyServerURL": "https://plot.ly"
       },
       "data": [
        {
         "alignmentgroup": "True",
         "hovertemplate": "variable=macdhist<br>DT=%{x}<br>value=%{y}<extra></extra>",
         "legendgroup": "macdhist",
         "marker": {
          "color": "#636efa",
          "pattern": {
           "shape": ""
          }
         },
         "name": "macdhist",
         "offsetgroup": "macdhist",
         "orientation": "v",
         "showlegend": true,
         "textposition": "auto",
         "type": "bar",
         "x": [
          "2019-03-05T00:00:00",
          "2019-03-06T00:00:00",
          "2019-03-07T00:00:00",
          "2019-03-08T00:00:00",
          "2019-03-11T00:00:00",
          "2019-03-12T00:00:00",
          "2019-03-13T00:00:00",
          "2019-03-14T00:00:00",
          "2019-03-15T00:00:00",
          "2019-03-18T00:00:00",
          "2019-03-19T00:00:00",
          "2019-03-20T00:00:00",
          "2019-03-21T00:00:00",
          "2019-03-22T00:00:00",
          "2019-03-25T00:00:00",
          "2019-03-26T00:00:00",
          "2019-03-27T00:00:00",
          "2019-03-28T00:00:00",
          "2019-03-29T00:00:00",
          "2019-04-01T00:00:00",
          "2019-04-02T00:00:00",
          "2019-04-03T00:00:00",
          "2019-04-04T00:00:00",
          "2019-04-05T00:00:00",
          "2019-04-08T00:00:00",
          "2019-04-09T00:00:00",
          "2019-04-10T00:00:00",
          "2019-04-11T00:00:00",
          "2019-04-12T00:00:00",
          "2019-04-15T00:00:00",
          "2019-04-16T00:00:00",
          "2019-04-17T00:00:00",
          "2019-04-18T00:00:00",
          "2019-04-19T00:00:00",
          "2019-04-22T00:00:00",
          "2019-04-23T00:00:00",
          "2019-04-24T00:00:00",
          "2019-04-25T00:00:00",
          "2019-04-26T00:00:00",
          "2019-04-29T00:00:00",
          "2019-04-30T00:00:00",
          "2019-05-02T00:00:00",
          "2019-05-03T00:00:00",
          "2019-05-07T00:00:00",
          "2019-05-08T00:00:00",
          "2019-05-09T00:00:00",
          "2019-05-10T00:00:00",
          "2019-05-13T00:00:00",
          "2019-05-14T00:00:00",
          "2019-05-15T00:00:00",
          "2019-05-16T00:00:00",
          "2019-05-17T00:00:00",
          "2019-05-20T00:00:00",
          "2019-05-21T00:00:00",
          "2019-05-22T00:00:00",
          "2019-05-23T00:00:00",
          "2019-05-24T00:00:00",
          "2019-05-27T00:00:00",
          "2019-05-28T00:00:00",
          "2019-05-29T00:00:00",
          "2019-05-30T00:00:00",
          "2019-05-31T00:00:00",
          "2019-06-03T00:00:00",
          "2019-06-04T00:00:00",
          "2019-06-05T00:00:00",
          "2019-06-07T00:00:00",
          "2019-06-10T00:00:00",
          "2019-06-11T00:00:00",
          "2019-06-12T00:00:00",
          "2019-06-13T00:00:00",
          "2019-06-14T00:00:00",
          "2019-06-17T00:00:00",
          "2019-06-18T00:00:00",
          "2019-06-19T00:00:00",
          "2019-06-20T00:00:00",
          "2019-06-21T00:00:00",
          "2019-06-24T00:00:00",
          "2019-06-25T00:00:00",
          "2019-06-26T00:00:00",
          "2019-06-27T00:00:00",
          "2019-06-28T00:00:00",
          "2019-07-01T00:00:00",
          "2019-07-02T00:00:00",
          "2019-07-03T00:00:00",
          "2019-07-04T00:00:00",
          "2019-07-05T00:00:00",
          "2019-07-08T00:00:00",
          "2019-07-09T00:00:00",
          "2019-07-10T00:00:00",
          "2019-07-11T00:00:00",
          "2019-07-12T00:00:00",
          "2019-07-15T00:00:00",
          "2019-07-16T00:00:00",
          "2019-07-17T00:00:00",
          "2019-07-18T00:00:00",
          "2019-07-19T00:00:00",
          "2019-07-22T00:00:00",
          "2019-07-23T00:00:00",
          "2019-07-24T00:00:00",
          "2019-07-25T00:00:00",
          "2019-07-26T00:00:00",
          "2019-07-29T00:00:00",
          "2019-07-30T00:00:00",
          "2019-07-31T00:00:00",
          "2019-08-01T00:00:00",
          "2019-08-02T00:00:00",
          "2019-08-05T00:00:00",
          "2019-08-06T00:00:00",
          "2019-08-07T00:00:00",
          "2019-08-08T00:00:00",
          "2019-08-09T00:00:00",
          "2019-08-12T00:00:00",
          "2019-08-13T00:00:00",
          "2019-08-14T00:00:00",
          "2019-08-16T00:00:00",
          "2019-08-19T00:00:00",
          "2019-08-20T00:00:00",
          "2019-08-21T00:00:00",
          "2019-08-22T00:00:00",
          "2019-08-23T00:00:00",
          "2019-08-26T00:00:00",
          "2019-08-27T00:00:00",
          "2019-08-28T00:00:00",
          "2019-08-29T00:00:00",
          "2019-08-30T00:00:00",
          "2019-09-02T00:00:00",
          "2019-09-03T00:00:00",
          "2019-09-04T00:00:00",
          "2019-09-05T00:00:00",
          "2019-09-06T00:00:00",
          "2019-09-09T00:00:00",
          "2019-09-10T00:00:00",
          "2019-09-11T00:00:00",
          "2019-09-16T00:00:00",
          "2019-09-17T00:00:00",
          "2019-09-18T00:00:00",
          "2019-09-19T00:00:00",
          "2019-09-20T00:00:00",
          "2019-09-23T00:00:00",
          "2019-09-24T00:00:00",
          "2019-09-25T00:00:00",
          "2019-09-26T00:00:00",
          "2019-09-27T00:00:00",
          "2019-09-30T00:00:00",
          "2019-10-01T00:00:00",
          "2019-10-02T00:00:00",
          "2019-10-04T00:00:00",
          "2019-10-07T00:00:00",
          "2019-10-08T00:00:00",
          "2019-10-10T00:00:00",
          "2019-10-11T00:00:00",
          "2019-10-14T00:00:00",
          "2019-10-15T00:00:00",
          "2019-10-16T00:00:00",
          "2019-10-17T00:00:00",
          "2019-10-18T00:00:00",
          "2019-10-21T00:00:00",
          "2019-10-22T00:00:00",
          "2019-10-23T00:00:00",
          "2019-10-24T00:00:00",
          "2019-10-25T00:00:00",
          "2019-10-28T00:00:00",
          "2019-10-29T00:00:00",
          "2019-10-30T00:00:00",
          "2019-10-31T00:00:00",
          "2019-11-01T00:00:00",
          "2019-11-04T00:00:00",
          "2019-11-05T00:00:00",
          "2019-11-06T00:00:00",
          "2019-11-07T00:00:00",
          "2019-11-08T00:00:00",
          "2019-11-11T00:00:00",
          "2019-11-12T00:00:00",
          "2019-11-13T00:00:00",
          "2019-11-14T00:00:00",
          "2019-11-15T00:00:00",
          "2019-11-18T00:00:00",
          "2019-11-19T00:00:00",
          "2019-11-20T00:00:00",
          "2019-11-21T00:00:00",
          "2019-11-22T00:00:00",
          "2019-11-25T00:00:00",
          "2019-11-26T00:00:00",
          "2019-11-27T00:00:00",
          "2019-11-28T00:00:00",
          "2019-11-29T00:00:00",
          "2019-12-02T00:00:00",
          "2019-12-03T00:00:00",
          "2019-12-04T00:00:00",
          "2019-12-05T00:00:00",
          "2019-12-06T00:00:00",
          "2019-12-09T00:00:00",
          "2019-12-10T00:00:00",
          "2019-12-11T00:00:00",
          "2019-12-12T00:00:00",
          "2019-12-13T00:00:00",
          "2019-12-16T00:00:00",
          "2019-12-17T00:00:00",
          "2019-12-18T00:00:00",
          "2019-12-19T00:00:00",
          "2019-12-20T00:00:00",
          "2019-12-23T00:00:00",
          "2019-12-24T00:00:00",
          "2019-12-26T00:00:00",
          "2019-12-27T00:00:00",
          "2019-12-30T00:00:00",
          "2020-01-02T00:00:00",
          "2020-01-03T00:00:00",
          "2020-01-06T00:00:00",
          "2020-01-07T00:00:00",
          "2020-01-08T00:00:00",
          "2020-01-09T00:00:00",
          "2020-01-10T00:00:00",
          "2020-01-13T00:00:00",
          "2020-01-14T00:00:00",
          "2020-01-15T00:00:00",
          "2020-01-16T00:00:00",
          "2020-01-17T00:00:00",
          "2020-01-20T00:00:00",
          "2020-01-21T00:00:00",
          "2020-01-22T00:00:00",
          "2020-01-23T00:00:00",
          "2020-01-28T00:00:00",
          "2020-01-29T00:00:00",
          "2020-01-30T00:00:00",
          "2020-01-31T00:00:00",
          "2020-02-03T00:00:00",
          "2020-02-04T00:00:00",
          "2020-02-05T00:00:00",
          "2020-02-06T00:00:00",
          "2020-02-07T00:00:00",
          "2020-02-10T00:00:00",
          "2020-02-11T00:00:00",
          "2020-02-12T00:00:00",
          "2020-02-13T00:00:00",
          "2020-02-14T00:00:00",
          "2020-02-17T00:00:00",
          "2020-02-18T00:00:00",
          "2020-02-19T00:00:00",
          "2020-02-20T00:00:00",
          "2020-02-21T00:00:00",
          "2020-02-24T00:00:00",
          "2020-02-25T00:00:00",
          "2020-02-26T00:00:00",
          "2020-02-27T00:00:00",
          "2020-02-28T00:00:00",
          "2020-03-02T00:00:00",
          "2020-03-03T00:00:00",
          "2020-03-04T00:00:00",
          "2020-03-05T00:00:00",
          "2020-03-06T00:00:00",
          "2020-03-09T00:00:00",
          "2020-03-10T00:00:00",
          "2020-03-11T00:00:00",
          "2020-03-12T00:00:00",
          "2020-03-13T00:00:00",
          "2020-03-16T00:00:00",
          "2020-03-17T00:00:00",
          "2020-03-18T00:00:00",
          "2020-03-19T00:00:00"
         ],
         "xaxis": "x",
         "y": [
          0,
          27.527308838132548,
          40.3623234222906,
          39.12178140976552,
          25.810100488637033,
          -12.594462807136779,
          -52.80307782462598,
          -6.947205197788648,
          -6.9358599914791625,
          -21.754157279995404,
          66.33117009531321,
          98.67393383729579,
          150.80651173942607,
          119.21195479809059,
          40.127524165901434,
          0.9031336780229822,
          20.492784123806018,
          -144.73133411821314,
          -300.3523648793404,
          -416.7473427865578,
          -537.8517969679503,
          -574.3088586105144,
          -596.740702325637,
          -635.594346430702,
          -555.5889316890477,
          -450.2835770446019,
          -323.85190683411355,
          -198.07655928703832,
          -122.0536171270291,
          -115.67913480474755,
          -142.75191666000484,
          -149.45649198692604,
          -151.01322488164624,
          -140.109954304589,
          -94.11280844847295,
          -71.91648876232819,
          -86.13746237251257,
          -94.54493796346105,
          -130.24025762556857,
          -134.4668137164888,
          -143.06824219823568,
          -83.64642144059644,
          2.406902379413623,
          45.32269402272891,
          47.11464288705122,
          -93.92929204382858,
          -190.8319145975663,
          -337.6251984122912,
          -497.57992447224956,
          -491.1301111336195,
          -498.90939785776243,
          -565.1905315184858,
          -677.3676903302882,
          -770.629982671149,
          -783.4593983348616,
          -747.5864495396918,
          -685.9094668267021,
          -542.7502670562617,
          -410.7770997839584,
          -299.1967023806749,
          -94.13617003616264,
          -10.53310368129064,
          132.72179926551007,
          331.75418835767573,
          509.79963085140594,
          711.7525512342609,
          826.6844583912532,
          933.6613892436787,
          985.696127737388,
          1026.3643726859002,
          993.1381838058309,
          917.775522427444,
          731.606484483519,
          503.03570333549555,
          338.5502071307273,
          203.67346048740478,
          77.20359395787762,
          20.65556180130909,
          -47.616345004612356,
          -79.76541050995417,
          -89.40417587987872,
          -87.74616060251702,
          -135.63609088863274,
          -122.42668791032031,
          -95.00180684440772,
          -77.30871635783046,
          -185.48557078073725,
          -278.4151672676014,
          -323.0597021521927,
          -262.24643820898166,
          -68.97531892242876,
          91.75939432439009,
          213.77420898731452,
          379.9629132979719,
          460.23305439217995,
          498.5164669564172,
          470.98882147078075,
          310.3376684127049,
          189.1458650666341,
          48.4245705982554,
          -70.87398877794197,
          -255.84979107542483,
          -339.38626107682495,
          -340.4992201981207,
          -381.32900921740406,
          -418.00138941917066,
          -623.7649332190776,
          -832.9369792986954,
          -928.6331038010844,
          -898.344151990323,
          -870.0271654795106,
          -843.4329966119753,
          -867.9486206398863,
          -794.550198117365,
          -764.14601799448,
          -711.5843086465457,
          -474.9792995449959,
          -268.17617238692856,
          -73.75359917283299,
          101.02652998531812,
          140.358288700593,
          180.97146867389938,
          318.0619661799003,
          430.7507524119924,
          522.2557246318408,
          527.7539510972038,
          524.7615458454222,
          486.361811705666,
          459.2207970215368,
          391.4172350684787,
          245.53158841364302,
          156.79336076285335,
          75.70235415414959,
          48.20520689478667,
          -39.5586134381258,
          -117.21565653471225,
          -167.84005405521384,
          -178.23972009244721,
          -209.845555952739,
          -229.34637247830074,
          -347.8220276199902,
          -472.2933054271598,
          -522.8751840476509,
          -556.4023129706918,
          -552.4270821745035,
          -593.4462005002222,
          -653.6424017858672,
          -765.7368206493268,
          -781.6550876878653,
          -700.5061389308694,
          -628.4914144696911,
          -496.589889831974,
          -400.76139160541766,
          -288.45268468242216,
          -230.64393233394276,
          -165.2464473661489,
          -171.6124805092104,
          -165.4260451133855,
          -176.09611611250966,
          -103.34878254539535,
          -79.45450772604545,
          91.33352140060651,
          192.7784973001335,
          294.63078796688114,
          370.25112380531846,
          420.16244950603163,
          459.45459976045936,
          489.5831692076224,
          522.5816110079711,
          507.0962659110785,
          499.48763345753673,
          501.7271242041754,
          454.314018066103,
          382.03592093310976,
          331.97412896013134,
          361.22747289764175,
          405.0276817765789,
          452.5804041255558,
          505.9422950364831,
          487.7721689508637,
          559.5158977349877,
          619.5687576450011,
          647.752985838539,
          667.804568771447,
          594.8061290961748,
          493.02869899708367,
          430.4552539508263,
          376.6632919894224,
          242.64130136029496,
          139.4634872600052,
          85.64964800289249,
          89.97595944260183,
          51.04421502178809,
          24.660992780160655,
          14.051848203708232,
          25.172455741397357,
          12.258521226559537,
          14.374196796642195,
          -19.956193640916467,
          -38.11908263620387,
          -52.058755043491715,
          -57.03226201739187,
          -61.92488007217287,
          8.684586554679186,
          102.84574437068022,
          225.29678624125472,
          321.9924810165154,
          335.6662857677496,
          343.6436114455578,
          382.74214817735594,
          327.67107520997615,
          477.8360562156168,
          635.6895068703208,
          736.3463563327707,
          832.7244363415812,
          845.1712876737911,
          851.0716118545902,
          804.7565417985461,
          821.1506259294788,
          783.1758004236133,
          773.7807098690721,
          797.9246123501289,
          729.9053218166965,
          660.6578738769252,
          591.1866347532604,
          450.536251974587,
          728.4996011254267,
          978.4342073872327,
          1209.4277071579857,
          1504.3162191334573,
          1917.6441533074433,
          2304.670981311856,
          2923.1332219298874,
          3387.2434122417635,
          3760.042262973053,
          3963.8906778372825,
          3985.589951532415,
          3903.209298098963,
          3791.419252086973,
          3846.786193839622,
          3617.6595091117542,
          3349.687871021294,
          3225.6415142088435,
          2998.5592661495475,
          2658.9944311823947,
          2211.792721976485,
          1931.63835743651,
          1662.77209354966,
          1481.5182133009466,
          1243.1898603427262,
          951.3383569122534,
          466.03993079027896,
          220.15389791086818,
          -136.01077224530127,
          -449.8559431925014,
          -714.6568743957805,
          -1209.2025706212216,
          -1596.8628734267204,
          -2176.833326986398,
          -2948.76526836205
         ],
         "yaxis": "y"
        }
       ],
       "layout": {
        "barmode": "relative",
        "height": 300,
        "legend": {
         "title": {
          "text": "variable"
         },
         "tracegroupgap": 0
        },
        "template": {
         "data": {
          "bar": [
           {
            "error_x": {
             "color": "#2a3f5f"
            },
            "error_y": {
             "color": "#2a3f5f"
            },
            "marker": {
             "line": {
              "color": "#E5ECF6",
              "width": 0.5
             },
             "pattern": {
              "fillmode": "overlay",
              "size": 10,
              "solidity": 0.2
             }
            },
            "type": "bar"
           }
          ],
          "barpolar": [
           {
            "marker": {
             "line": {
              "color": "#E5ECF6",
              "width": 0.5
             },
             "pattern": {
              "fillmode": "overlay",
              "size": 10,
              "solidity": 0.2
             }
            },
            "type": "barpolar"
           }
          ],
          "carpet": [
           {
            "aaxis": {
             "endlinecolor": "#2a3f5f",
             "gridcolor": "white",
             "linecolor": "white",
             "minorgridcolor": "white",
             "startlinecolor": "#2a3f5f"
            },
            "baxis": {
             "endlinecolor": "#2a3f5f",
             "gridcolor": "white",
             "linecolor": "white",
             "minorgridcolor": "white",
             "startlinecolor": "#2a3f5f"
            },
            "type": "carpet"
           }
          ],
          "choropleth": [
           {
            "colorbar": {
             "outlinewidth": 0,
             "ticks": ""
            },
            "type": "choropleth"
           }
          ],
          "contour": [
           {
            "colorbar": {
             "outlinewidth": 0,
             "ticks": ""
            },
            "colorscale": [
             [
              0,
              "#0d0887"
             ],
             [
              0.1111111111111111,
              "#46039f"
             ],
             [
              0.2222222222222222,
              "#7201a8"
             ],
             [
              0.3333333333333333,
              "#9c179e"
             ],
             [
              0.4444444444444444,
              "#bd3786"
             ],
             [
              0.5555555555555556,
              "#d8576b"
             ],
             [
              0.6666666666666666,
              "#ed7953"
             ],
             [
              0.7777777777777778,
              "#fb9f3a"
             ],
             [
              0.8888888888888888,
              "#fdca26"
             ],
             [
              1,
              "#f0f921"
             ]
            ],
            "type": "contour"
           }
          ],
          "contourcarpet": [
           {
            "colorbar": {
             "outlinewidth": 0,
             "ticks": ""
            },
            "type": "contourcarpet"
           }
          ],
          "heatmap": [
           {
            "colorbar": {
             "outlinewidth": 0,
             "ticks": ""
            },
            "colorscale": [
             [
              0,
              "#0d0887"
             ],
             [
              0.1111111111111111,
              "#46039f"
             ],
             [
              0.2222222222222222,
              "#7201a8"
             ],
             [
              0.3333333333333333,
              "#9c179e"
             ],
             [
              0.4444444444444444,
              "#bd3786"
             ],
             [
              0.5555555555555556,
              "#d8576b"
             ],
             [
              0.6666666666666666,
              "#ed7953"
             ],
             [
              0.7777777777777778,
              "#fb9f3a"
             ],
             [
              0.8888888888888888,
              "#fdca26"
             ],
             [
              1,
              "#f0f921"
             ]
            ],
            "type": "heatmap"
           }
          ],
          "heatmapgl": [
           {
            "colorbar": {
             "outlinewidth": 0,
             "ticks": ""
            },
            "colorscale": [
             [
              0,
              "#0d0887"
             ],
             [
              0.1111111111111111,
              "#46039f"
             ],
             [
              0.2222222222222222,
              "#7201a8"
             ],
             [
              0.3333333333333333,
              "#9c179e"
             ],
             [
              0.4444444444444444,
              "#bd3786"
             ],
             [
              0.5555555555555556,
              "#d8576b"
             ],
             [
              0.6666666666666666,
              "#ed7953"
             ],
             [
              0.7777777777777778,
              "#fb9f3a"
             ],
             [
              0.8888888888888888,
              "#fdca26"
             ],
             [
              1,
              "#f0f921"
             ]
            ],
            "type": "heatmapgl"
           }
          ],
          "histogram": [
           {
            "marker": {
             "pattern": {
              "fillmode": "overlay",
              "size": 10,
              "solidity": 0.2
             }
            },
            "type": "histogram"
           }
          ],
          "histogram2d": [
           {
            "colorbar": {
             "outlinewidth": 0,
             "ticks": ""
            },
            "colorscale": [
             [
              0,
              "#0d0887"
             ],
             [
              0.1111111111111111,
              "#46039f"
             ],
             [
              0.2222222222222222,
              "#7201a8"
             ],
             [
              0.3333333333333333,
              "#9c179e"
             ],
             [
              0.4444444444444444,
              "#bd3786"
             ],
             [
              0.5555555555555556,
              "#d8576b"
             ],
             [
              0.6666666666666666,
              "#ed7953"
             ],
             [
              0.7777777777777778,
              "#fb9f3a"
             ],
             [
              0.8888888888888888,
              "#fdca26"
             ],
             [
              1,
              "#f0f921"
             ]
            ],
            "type": "histogram2d"
           }
          ],
          "histogram2dcontour": [
           {
            "colorbar": {
             "outlinewidth": 0,
             "ticks": ""
            },
            "colorscale": [
             [
              0,
              "#0d0887"
             ],
             [
              0.1111111111111111,
              "#46039f"
             ],
             [
              0.2222222222222222,
              "#7201a8"
             ],
             [
              0.3333333333333333,
              "#9c179e"
             ],
             [
              0.4444444444444444,
              "#bd3786"
             ],
             [
              0.5555555555555556,
              "#d8576b"
             ],
             [
              0.6666666666666666,
              "#ed7953"
             ],
             [
              0.7777777777777778,
              "#fb9f3a"
             ],
             [
              0.8888888888888888,
              "#fdca26"
             ],
             [
              1,
              "#f0f921"
             ]
            ],
            "type": "histogram2dcontour"
           }
          ],
          "mesh3d": [
           {
            "colorbar": {
             "outlinewidth": 0,
             "ticks": ""
            },
            "type": "mesh3d"
           }
          ],
          "parcoords": [
           {
            "line": {
             "colorbar": {
              "outlinewidth": 0,
              "ticks": ""
             }
            },
            "type": "parcoords"
           }
          ],
          "pie": [
           {
            "automargin": true,
            "type": "pie"
           }
          ],
          "scatter": [
           {
            "fillpattern": {
             "fillmode": "overlay",
             "size": 10,
             "solidity": 0.2
            },
            "type": "scatter"
           }
          ],
          "scatter3d": [
           {
            "line": {
             "colorbar": {
              "outlinewidth": 0,
              "ticks": ""
             }
            },
            "marker": {
             "colorbar": {
              "outlinewidth": 0,
              "ticks": ""
             }
            },
            "type": "scatter3d"
           }
          ],
          "scattercarpet": [
           {
            "marker": {
             "colorbar": {
              "outlinewidth": 0,
              "ticks": ""
             }
            },
            "type": "scattercarpet"
           }
          ],
          "scattergeo": [
           {
            "marker": {
             "colorbar": {
              "outlinewidth": 0,
              "ticks": ""
             }
            },
            "type": "scattergeo"
           }
          ],
          "scattergl": [
           {
            "marker": {
             "colorbar": {
              "outlinewidth": 0,
              "ticks": ""
             }
            },
            "type": "scattergl"
           }
          ],
          "scattermapbox": [
           {
            "marker": {
             "colorbar": {
              "outlinewidth": 0,
              "ticks": ""
             }
            },
            "type": "scattermapbox"
           }
          ],
          "scatterpolar": [
           {
            "marker": {
             "colorbar": {
              "outlinewidth": 0,
              "ticks": ""
             }
            },
            "type": "scatterpolar"
           }
          ],
          "scatterpolargl": [
           {
            "marker": {
             "colorbar": {
              "outlinewidth": 0,
              "ticks": ""
             }
            },
            "type": "scatterpolargl"
           }
          ],
          "scatterternary": [
           {
            "marker": {
             "colorbar": {
              "outlinewidth": 0,
              "ticks": ""
             }
            },
            "type": "scatterternary"
           }
          ],
          "surface": [
           {
            "colorbar": {
             "outlinewidth": 0,
             "ticks": ""
            },
            "colorscale": [
             [
              0,
              "#0d0887"
             ],
             [
              0.1111111111111111,
              "#46039f"
             ],
             [
              0.2222222222222222,
              "#7201a8"
             ],
             [
              0.3333333333333333,
              "#9c179e"
             ],
             [
              0.4444444444444444,
              "#bd3786"
             ],
             [
              0.5555555555555556,
              "#d8576b"
             ],
             [
              0.6666666666666666,
              "#ed7953"
             ],
             [
              0.7777777777777778,
              "#fb9f3a"
             ],
             [
              0.8888888888888888,
              "#fdca26"
             ],
             [
              1,
              "#f0f921"
             ]
            ],
            "type": "surface"
           }
          ],
          "table": [
           {
            "cells": {
             "fill": {
              "color": "#EBF0F8"
             },
             "line": {
              "color": "white"
             }
            },
            "header": {
             "fill": {
              "color": "#C8D4E3"
             },
             "line": {
              "color": "white"
             }
            },
            "type": "table"
           }
          ]
         },
         "layout": {
          "annotationdefaults": {
           "arrowcolor": "#2a3f5f",
           "arrowhead": 0,
           "arrowwidth": 1
          },
          "autotypenumbers": "strict",
          "coloraxis": {
           "colorbar": {
            "outlinewidth": 0,
            "ticks": ""
           }
          },
          "colorscale": {
           "diverging": [
            [
             0,
             "#8e0152"
            ],
            [
             0.1,
             "#c51b7d"
            ],
            [
             0.2,
             "#de77ae"
            ],
            [
             0.3,
             "#f1b6da"
            ],
            [
             0.4,
             "#fde0ef"
            ],
            [
             0.5,
             "#f7f7f7"
            ],
            [
             0.6,
             "#e6f5d0"
            ],
            [
             0.7,
             "#b8e186"
            ],
            [
             0.8,
             "#7fbc41"
            ],
            [
             0.9,
             "#4d9221"
            ],
            [
             1,
             "#276419"
            ]
           ],
           "sequential": [
            [
             0,
             "#0d0887"
            ],
            [
             0.1111111111111111,
             "#46039f"
            ],
            [
             0.2222222222222222,
             "#7201a8"
            ],
            [
             0.3333333333333333,
             "#9c179e"
            ],
            [
             0.4444444444444444,
             "#bd3786"
            ],
            [
             0.5555555555555556,
             "#d8576b"
            ],
            [
             0.6666666666666666,
             "#ed7953"
            ],
            [
             0.7777777777777778,
             "#fb9f3a"
            ],
            [
             0.8888888888888888,
             "#fdca26"
            ],
            [
             1,
             "#f0f921"
            ]
           ],
           "sequentialminus": [
            [
             0,
             "#0d0887"
            ],
            [
             0.1111111111111111,
             "#46039f"
            ],
            [
             0.2222222222222222,
             "#7201a8"
            ],
            [
             0.3333333333333333,
             "#9c179e"
            ],
            [
             0.4444444444444444,
             "#bd3786"
            ],
            [
             0.5555555555555556,
             "#d8576b"
            ],
            [
             0.6666666666666666,
             "#ed7953"
            ],
            [
             0.7777777777777778,
             "#fb9f3a"
            ],
            [
             0.8888888888888888,
             "#fdca26"
            ],
            [
             1,
             "#f0f921"
            ]
           ]
          },
          "colorway": [
           "#636efa",
           "#EF553B",
           "#00cc96",
           "#ab63fa",
           "#FFA15A",
           "#19d3f3",
           "#FF6692",
           "#B6E880",
           "#FF97FF",
           "#FECB52"
          ],
          "font": {
           "color": "#2a3f5f"
          },
          "geo": {
           "bgcolor": "white",
           "lakecolor": "white",
           "landcolor": "#E5ECF6",
           "showlakes": true,
           "showland": true,
           "subunitcolor": "white"
          },
          "hoverlabel": {
           "align": "left"
          },
          "hovermode": "closest",
          "mapbox": {
           "style": "light"
          },
          "paper_bgcolor": "white",
          "plot_bgcolor": "#E5ECF6",
          "polar": {
           "angularaxis": {
            "gridcolor": "white",
            "linecolor": "white",
            "ticks": ""
           },
           "bgcolor": "#E5ECF6",
           "radialaxis": {
            "gridcolor": "white",
            "linecolor": "white",
            "ticks": ""
           }
          },
          "scene": {
           "xaxis": {
            "backgroundcolor": "#E5ECF6",
            "gridcolor": "white",
            "gridwidth": 2,
            "linecolor": "white",
            "showbackground": true,
            "ticks": "",
            "zerolinecolor": "white"
           },
           "yaxis": {
            "backgroundcolor": "#E5ECF6",
            "gridcolor": "white",
            "gridwidth": 2,
            "linecolor": "white",
            "showbackground": true,
            "ticks": "",
            "zerolinecolor": "white"
           },
           "zaxis": {
            "backgroundcolor": "#E5ECF6",
            "gridcolor": "white",
            "gridwidth": 2,
            "linecolor": "white",
            "showbackground": true,
            "ticks": "",
            "zerolinecolor": "white"
           }
          },
          "shapedefaults": {
           "line": {
            "color": "#2a3f5f"
           }
          },
          "ternary": {
           "aaxis": {
            "gridcolor": "white",
            "linecolor": "white",
            "ticks": ""
           },
           "baxis": {
            "gridcolor": "white",
            "linecolor": "white",
            "ticks": ""
           },
           "bgcolor": "#E5ECF6",
           "caxis": {
            "gridcolor": "white",
            "linecolor": "white",
            "ticks": ""
           }
          },
          "title": {
           "x": 0.05
          },
          "xaxis": {
           "automargin": true,
           "gridcolor": "white",
           "linecolor": "white",
           "ticks": "",
           "title": {
            "standoff": 15
           },
           "zerolinecolor": "white",
           "zerolinewidth": 2
          },
          "yaxis": {
           "automargin": true,
           "gridcolor": "white",
           "linecolor": "white",
           "ticks": "",
           "title": {
            "standoff": 15
           },
           "zerolinecolor": "white",
           "zerolinewidth": 2
          }
         }
        },
        "title": {
         "text": "MACD_oscillator_247540"
        },
        "xaxis": {
         "anchor": "y",
         "domain": [
          0,
          1
         ],
         "title": {
          "text": "DT"
         }
        },
        "yaxis": {
         "anchor": "x",
         "domain": [
          0,
          1
         ],
         "title": {
          "text": "value"
         }
        }
       }
      }
     },
     "metadata": {},
     "output_type": "display_data"
    }
   ],
   "source": [
    "MACD_oscillator_plt"
   ]
  },
  {
   "cell_type": "code",
   "execution_count": null,
   "metadata": {},
   "outputs": [],
   "source": []
  }
 ],
 "metadata": {
  "kernelspec": {
   "display_name": "venv",
   "language": "python",
   "name": "python3"
  },
  "language_info": {
   "codemirror_mode": {
    "name": "ipython",
    "version": 3
   },
   "file_extension": ".py",
   "mimetype": "text/x-python",
   "name": "python",
   "nbconvert_exporter": "python",
   "pygments_lexer": "ipython3",
   "version": "3.11.2"
  },
  "orig_nbformat": 4
 },
 "nbformat": 4,
 "nbformat_minor": 2
}
